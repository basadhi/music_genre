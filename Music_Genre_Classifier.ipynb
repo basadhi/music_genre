{
  "nbformat": 4,
  "nbformat_minor": 0,
  "metadata": {
    "colab": {
      "provenance": [],
      "mount_file_id": "1iGO4obavAzmacHKnGKjdnxiSdQRLmKQK",
      "authorship_tag": "ABX9TyPA39uVRlaY8ND8t2IvaETG",
      "include_colab_link": true
    },
    "kernelspec": {
      "name": "python3",
      "display_name": "Python 3"
    },
    "language_info": {
      "name": "python"
    }
  },
  "cells": [
    {
      "cell_type": "markdown",
      "metadata": {
        "id": "view-in-github",
        "colab_type": "text"
      },
      "source": [
        "<a href=\"https://colab.research.google.com/github/basadhi/music_genre/blob/main/Music_Genre_Classifier.ipynb\" target=\"_parent\"><img src=\"https://colab.research.google.com/assets/colab-badge.svg\" alt=\"Open In Colab\"/></a>"
      ]
    },
    {
      "cell_type": "code",
      "source": [
        "pip install pyspark pandas matplotlib streamlit"
      ],
      "metadata": {
        "colab": {
          "base_uri": "https://localhost:8080/"
        },
        "id": "sJm2D9Ont-dZ",
        "outputId": "547fe120-0c68-4b9c-94cb-efb39c70d005"
      },
      "execution_count": 28,
      "outputs": [
        {
          "output_type": "stream",
          "name": "stdout",
          "text": [
            "Requirement already satisfied: pyspark in /usr/local/lib/python3.11/dist-packages (3.5.1)\n",
            "Requirement already satisfied: pandas in /usr/local/lib/python3.11/dist-packages (2.2.2)\n",
            "Requirement already satisfied: matplotlib in /usr/local/lib/python3.11/dist-packages (3.10.0)\n",
            "Requirement already satisfied: streamlit in /usr/local/lib/python3.11/dist-packages (1.45.0)\n",
            "Requirement already satisfied: py4j==0.10.9.7 in /usr/local/lib/python3.11/dist-packages (from pyspark) (0.10.9.7)\n",
            "Requirement already satisfied: numpy>=1.23.2 in /usr/local/lib/python3.11/dist-packages (from pandas) (2.0.2)\n",
            "Requirement already satisfied: python-dateutil>=2.8.2 in /usr/local/lib/python3.11/dist-packages (from pandas) (2.9.0.post0)\n",
            "Requirement already satisfied: pytz>=2020.1 in /usr/local/lib/python3.11/dist-packages (from pandas) (2025.2)\n",
            "Requirement already satisfied: tzdata>=2022.7 in /usr/local/lib/python3.11/dist-packages (from pandas) (2025.2)\n",
            "Requirement already satisfied: contourpy>=1.0.1 in /usr/local/lib/python3.11/dist-packages (from matplotlib) (1.3.2)\n",
            "Requirement already satisfied: cycler>=0.10 in /usr/local/lib/python3.11/dist-packages (from matplotlib) (0.12.1)\n",
            "Requirement already satisfied: fonttools>=4.22.0 in /usr/local/lib/python3.11/dist-packages (from matplotlib) (4.57.0)\n",
            "Requirement already satisfied: kiwisolver>=1.3.1 in /usr/local/lib/python3.11/dist-packages (from matplotlib) (1.4.8)\n",
            "Requirement already satisfied: packaging>=20.0 in /usr/local/lib/python3.11/dist-packages (from matplotlib) (24.2)\n",
            "Requirement already satisfied: pillow>=8 in /usr/local/lib/python3.11/dist-packages (from matplotlib) (11.2.1)\n",
            "Requirement already satisfied: pyparsing>=2.3.1 in /usr/local/lib/python3.11/dist-packages (from matplotlib) (3.2.3)\n",
            "Requirement already satisfied: altair<6,>=4.0 in /usr/local/lib/python3.11/dist-packages (from streamlit) (5.5.0)\n",
            "Requirement already satisfied: blinker<2,>=1.5.0 in /usr/local/lib/python3.11/dist-packages (from streamlit) (1.9.0)\n",
            "Requirement already satisfied: cachetools<6,>=4.0 in /usr/local/lib/python3.11/dist-packages (from streamlit) (5.5.2)\n",
            "Requirement already satisfied: click<9,>=7.0 in /usr/local/lib/python3.11/dist-packages (from streamlit) (8.1.8)\n",
            "Requirement already satisfied: protobuf<7,>=3.20 in /usr/local/lib/python3.11/dist-packages (from streamlit) (5.29.4)\n",
            "Requirement already satisfied: pyarrow>=7.0 in /usr/local/lib/python3.11/dist-packages (from streamlit) (18.1.0)\n",
            "Requirement already satisfied: requests<3,>=2.27 in /usr/local/lib/python3.11/dist-packages (from streamlit) (2.32.3)\n",
            "Requirement already satisfied: tenacity<10,>=8.1.0 in /usr/local/lib/python3.11/dist-packages (from streamlit) (9.1.2)\n",
            "Requirement already satisfied: toml<2,>=0.10.1 in /usr/local/lib/python3.11/dist-packages (from streamlit) (0.10.2)\n",
            "Requirement already satisfied: typing-extensions<5,>=4.4.0 in /usr/local/lib/python3.11/dist-packages (from streamlit) (4.13.2)\n",
            "Requirement already satisfied: watchdog<7,>=2.1.5 in /usr/local/lib/python3.11/dist-packages (from streamlit) (6.0.0)\n",
            "Requirement already satisfied: gitpython!=3.1.19,<4,>=3.0.7 in /usr/local/lib/python3.11/dist-packages (from streamlit) (3.1.44)\n",
            "Requirement already satisfied: pydeck<1,>=0.8.0b4 in /usr/local/lib/python3.11/dist-packages (from streamlit) (0.9.1)\n",
            "Requirement already satisfied: tornado<7,>=6.0.3 in /usr/local/lib/python3.11/dist-packages (from streamlit) (6.4.2)\n",
            "Requirement already satisfied: jinja2 in /usr/local/lib/python3.11/dist-packages (from altair<6,>=4.0->streamlit) (3.1.6)\n",
            "Requirement already satisfied: jsonschema>=3.0 in /usr/local/lib/python3.11/dist-packages (from altair<6,>=4.0->streamlit) (4.23.0)\n",
            "Requirement already satisfied: narwhals>=1.14.2 in /usr/local/lib/python3.11/dist-packages (from altair<6,>=4.0->streamlit) (1.37.1)\n",
            "Requirement already satisfied: gitdb<5,>=4.0.1 in /usr/local/lib/python3.11/dist-packages (from gitpython!=3.1.19,<4,>=3.0.7->streamlit) (4.0.12)\n",
            "Requirement already satisfied: six>=1.5 in /usr/local/lib/python3.11/dist-packages (from python-dateutil>=2.8.2->pandas) (1.17.0)\n",
            "Requirement already satisfied: charset-normalizer<4,>=2 in /usr/local/lib/python3.11/dist-packages (from requests<3,>=2.27->streamlit) (3.4.1)\n",
            "Requirement already satisfied: idna<4,>=2.5 in /usr/local/lib/python3.11/dist-packages (from requests<3,>=2.27->streamlit) (3.10)\n",
            "Requirement already satisfied: urllib3<3,>=1.21.1 in /usr/local/lib/python3.11/dist-packages (from requests<3,>=2.27->streamlit) (2.4.0)\n",
            "Requirement already satisfied: certifi>=2017.4.17 in /usr/local/lib/python3.11/dist-packages (from requests<3,>=2.27->streamlit) (2025.4.26)\n",
            "Requirement already satisfied: smmap<6,>=3.0.1 in /usr/local/lib/python3.11/dist-packages (from gitdb<5,>=4.0.1->gitpython!=3.1.19,<4,>=3.0.7->streamlit) (5.0.2)\n",
            "Requirement already satisfied: MarkupSafe>=2.0 in /usr/local/lib/python3.11/dist-packages (from jinja2->altair<6,>=4.0->streamlit) (3.0.2)\n",
            "Requirement already satisfied: attrs>=22.2.0 in /usr/local/lib/python3.11/dist-packages (from jsonschema>=3.0->altair<6,>=4.0->streamlit) (25.3.0)\n",
            "Requirement already satisfied: jsonschema-specifications>=2023.03.6 in /usr/local/lib/python3.11/dist-packages (from jsonschema>=3.0->altair<6,>=4.0->streamlit) (2025.4.1)\n",
            "Requirement already satisfied: referencing>=0.28.4 in /usr/local/lib/python3.11/dist-packages (from jsonschema>=3.0->altair<6,>=4.0->streamlit) (0.36.2)\n",
            "Requirement already satisfied: rpds-py>=0.7.1 in /usr/local/lib/python3.11/dist-packages (from jsonschema>=3.0->altair<6,>=4.0->streamlit) (0.24.0)\n"
          ]
        }
      ]
    },
    {
      "cell_type": "markdown",
      "source": [
        "**Creating Spark session and MLlib pipeline**"
      ],
      "metadata": {
        "id": "TVdtU7AVvlRp"
      }
    },
    {
      "cell_type": "code",
      "source": [
        "from pyspark.sql import SparkSession\n",
        "from pyspark.ml import Pipeline\n",
        "from pyspark.ml.feature import Tokenizer, StopWordsRemover, HashingTF, IDF, StringIndexer\n",
        "from pyspark.ml.classification import LogisticRegression\n",
        "from pyspark.sql.types import StringType\n",
        "import pyspark.sql.functions as F\n",
        "from pyspark.sql.functions import col"
      ],
      "metadata": {
        "id": "9uneZ9dErJ7x"
      },
      "execution_count": 50,
      "outputs": []
    },
    {
      "cell_type": "code",
      "source": [
        "mendely_df = spark.read.csv(\"/content/drive/MyDrive/tcc_ceds_music.csv\", header=True, inferSchema=True)\n",
        "mendely_df.show()"
      ],
      "metadata": {
        "colab": {
          "base_uri": "https://localhost:8080/"
        },
        "collapsed": true,
        "id": "TJmoU146yE2u",
        "outputId": "e5b2c53a-ac10-45a5-b5ec-e6c4fc8725c1"
      },
      "execution_count": 31,
      "outputs": [
        {
          "output_type": "stream",
          "name": "stdout",
          "text": [
            "+---+--------------------+--------------------+------------+-----+--------------------+---+--------------------+--------------------+--------------------+--------------------+--------------------+--------------------+--------------------+--------------------+--------------------+--------------------+--------------------+------------------------+--------------------+--------------------+--------------------+--------------------+-------------------+-------------------+-------------------+--------------------+-------------------+-------------------+----------+------------------+\n",
            "|_c0|         artist_name|          track_name|release_date|genre|              lyrics|len|              dating|            violence|          world/life|          night/time|  shake the audience|       family/gospel|            romantic|       communication|             obscene|               music|     movement/places|light/visual perceptions|    family/spiritual|          like/girls|             sadness|            feelings|       danceability|           loudness|       acousticness|    instrumentalness|            valence|             energy|     topic|               age|\n",
            "+---+--------------------+--------------------+------------+-----+--------------------+---+--------------------+--------------------+--------------------+--------------------+--------------------+--------------------+--------------------+--------------------+--------------------+--------------------+--------------------+------------------------+--------------------+--------------------+--------------------+--------------------+-------------------+-------------------+-------------------+--------------------+-------------------+-------------------+----------+------------------+\n",
            "|  0|              mukesh|mohabbat bhi jhoothi|        1950|  pop|hold time feel br...| 95| 5.98086126288938E-4| 0.06374612761149936|5.980861568711991E-4|5.980861851733603E-4|5.980861274492461E-4| 0.04885701521695907|  0.0171043388602836|  0.2637508813174463|5.980861613241781E-4| 0.03928836592552566|5.980861922640663E-4|    5.980861380272807E-4|5.980861261369507E-4|5.980861796080522E-4|   0.380298895230333| 0.11717545142309628|0.35773854651792486|0.45411891392969767| 0.9979919658553876|  0.9018218623481781|0.33944765045342123|0.13711018802589228|   sadness|               1.0|\n",
            "|  4|       frankie laine|           i believe|        1950|  pop|believe drop rain...| 51|  0.0355371338259024| 0.09677674227829695| 0.44343517381864045|0.001283697113893...|0.001283697054027...| 0.02700747737752981|0.001283697149879...|0.001283697122283...|0.001283697114412...| 0.11803384116823598|0.001283697092589732|      0.2126810671851602| 0.05112419901776462|0.001283697056361...|0.001283697130026...|0.001283697175168...|0.33174482833315283|   0.64753993282568| 0.9548192317462166|1.528340080971659...| 0.3250206100577081| 0.2632402533492537|world/life|               1.0|\n",
            "|  6|         johnnie ray|                 cry|        1950|  pop|sweetheart send l...| 24|0.002770083112964...|0.002770083216950...|0.002770083338284...|0.002770083310265701|0.002770083105133...| 0.00277008314953857| 0.15856446565813143| 0.25066790992061416|0.002770083254843025|  0.3237940521915833|0.002770083466243...|    0.002770083321430...|0.002770083291967...|0.002770083513581458|0.002770083190828636| 0.22542232330826406|0.45629806130185213|  0.585288311155552| 0.8403612855032989|                 0.0|0.35181368507831823|0.13911225255483453|     music|               1.0|\n",
            "| 10|         pérez prado|            patricia|        1950|  pop|kiss lips want st...| 54| 0.04824912378369902|0.001547987647649...|0.001547987736006...|0.001547987822572...|0.021500355476212204|0.001547987658152495| 0.41153582463430627|0.001547987749586...|0.001547987713396...|0.001547987673344...|  0.1292497848687442|    0.001547987722954...|0.001547987649057...|  0.0811317603482602| 0.22588948422032734|0.001547987619397...| 0.6869923101917037| 0.7444042765941081|0.08393482322773417| 0.19939271255060728| 0.7753503709810387| 0.7437357402953926|  romantic|               1.0|\n",
            "| 12|giorgos papadopoulos|  apopse eida oneiro|        1950|  pop|till darling till...| 48|0.001349527698357...|0.001349527710717...|  0.4177722727138843|0.001349527769804...|0.001349527675244...|0.001349527706827...| 0.46343009486128023|0.001349527805997...|0.001349527691256...|0.001349527677136...|0.001349527712799...|    0.001349527797172...|0.029754565101290716|0.001349527684528...| 0.06880015162837107|0.001349527670906...| 0.2916711794649627| 0.6464887316360279| 0.9759035902646489|2.459514170040486E-4|  0.597073371805441| 0.3943754799949707|  romantic|               1.0|\n",
            "| 14|          perry como|round and round (...|        1950|  pop|convoy light dead...| 98|0.001052631582713...| 0.42068466605183297|0.001052631609859...| 0.07407828447166948|0.001052631579946518|0.001052631588461...|0.001052631597332...|0.001052631685616...|0.001052631649117...|0.001052631707373...|0.001052631614369...|     0.17217312598602819|0.001052631594390...|0.001052631636361...|  0.1282918261528421|0.001052631579916...|  0.689158453373768| 0.6855882880804041| 0.8985942756970641|                 0.0| 0.7681368507831822| 0.5495354809879948|  violence|               1.0|\n",
            "| 15|           freestyle|opm medley: when ...|        1950|  pop|piece mindin worl...|179|4.828585359289544...|4.828585391496296E-4|  0.3718167049375792| 0.04071196622112475|4.828585271789636...|4.828585260143325...|4.828585703156365E-4| 0.38470282035750364|4.828585383085951E-4|4.828585329210239...|4.828585460472616E-4|    0.044354670712664156|4.828585263456825E-4|4.828585627096699E-4|4.828585656360556E-4| 0.12314987700604764|0.36856926242824656|   0.63369484398636|0.43574240536386083|                 0.0| 0.2827699917559769|  0.486470448326314|world/life|               1.0|\n",
            "| 17|       johnny mathis|it's not for me t...|        1950|  pop|care moment hold ...| 21|0.002506265667248...|0.002506265839006983|   0.336056481879689|0.002506265685538...|0.002506265664416...|0.002506265687616...| 0.17686081100056078|0.002506265803470543|0.002506265741077501|0.002506265714418428|0.002506265792074993|     0.38688661883578657|0.002506265758227142|0.002506265687844309|  0.0626021023249228|0.002506265664234...|0.37939997833856826|  0.529420813783555| 0.9257027366493341|7.196356275303643E-5| 0.3734542456718879|0.19216696257180402|world/life|               1.0|\n",
            "| 20| stélios kazantzídis|klapse me mana kl...|        1950|  pop|lonely night surr...| 30|  0.0835372026172713|0.002024291674260193|0.002024291650049...| 0.24827279104188021|0.002024291513079...|0.002024291498504...|  0.4018011071559509| 0.16778329796230831|0.002024291563513...|0.002024291613657...|0.002024291560260...|    0.002024291717795...|0.002024291688942513|0.002024291513735481|0.002024291661684263|0.031599677583931174|0.49637171017004234| 0.6661795246519497| 0.9748995731923427|1.437246963562753E-5| 0.6218054410552348| 0.4003816735817975|  romantic|               1.0|\n",
            "| 23| stélios kazantzídis|   finito la mouzika|        1950|  pop|tear heart seat s...| 61|0.001119820838297...| 0.10254783417872616|0.001119820853684...|0.053943789301423566|0.001119820843386...|0.001119820834288861|0.001119820845310...| 0.09157194449160361|0.001119820917255...|0.001119820846354...| 0.10575159029552901|    0.001119820862863...| 0.00111982083067294|0.001119820888845...|   0.630507349802192|0.001119820828742...| 0.6620816635979638| 0.6431300156398225| 0.9839357268430994|1.751012145748988E-4| 0.7444352844187963|0.41339509301992206|   sadness|               1.0|\n",
            "| 28|           liva weel|drømmer man om de...|        1951|  pop|better sail midni...|113| 0.01708972078992839|   0.026486406786287|7.739938419628533E-4|7.739938930730819E-4|7.739938114794087E-4|7.739938162087643E-4|7.739938154689578E-4| 0.07966455727550444|  0.7205565145482401|  0.0809876481270162|7.739938663588145E-4|     0.06515323252524222|7.739938128065631E-4|7.739938111872138E-4|7.739938313656506E-4| 7.73993813273782E-4| 0.6252572295028702| 0.5331128374740404| 0.9728915390477302| 0.01700404858299595| 0.6918796372629842|0.34031973771353013|   obscene|0.9857142857142858|\n",
            "| 32|      the chordettes|       carolina moon|        1951|  pop|moon shin shin wa...| 38|0.001644736867323...|0.001644736859309...|0.001644736884293...| 0.39749045045118614|0.001644736880997...|0.001644736856928...|0.001644736866802197| 0.06620121160442552|0.001644736865661...| 0.09369901457013001|0.001644736896819...|      0.4179382701779092|0.001644736853678...|0.001644737014861...|0.001644736948966153|0.001644736842251...|0.26567746128019065| 0.6222598261672179| 0.9889558122046308|                 0.0|0.05873866446826051| 0.1110833491496431|night/time|0.9857142857142858|\n",
            "| 33|       frankie laine|      necessary evil|        1951|  pop|come motherfucker...|173|6.265664553557712E-4| 0.24435807592459777| 0.08356996555969803|6.265664626806047E-4|0.013375426631690305|0.022181143291013162|6.265664293906773E-4| 0.10912897095858594| 0.45898374120933244| 6.26566436615197E-4|6.265664572703912E-4|    6.265664549804881E-4|6.265664809273208E-4|6.265664832809306E-4|6.265664423323169E-4| 0.03258084237535422| 0.5223654283548144|  0.528728559341589| 0.8524094903709745|                 0.0|0.40849134377576257|0.15312670425743025|   obscene|0.9857142857142858|\n",
            "| 34|          ghantasala|     kanugona galano|        1951|  pop|work morning flig...| 73|7.855459608217173E-4|7.855460145639783E-4|   0.150690869353428|7.855460094298337E-4|7.855459556829547E-4|7.855460980037351E-4|7.855460467441368E-4|  0.0901142312278355|7.855459846770268E-4| 0.17331061822109362|7.855460018675903E-4|     0.08510624789690309|7.855461484164477E-4|7.855459879564928E-4|  0.4454687961567132| 0.04509713905993533|0.46929492039423815| 0.7456605902110094| 0.9216866683601088|  0.5819838056680161|  0.611500412201154| 0.6025901910049642|   sadness|0.9857142857142858|\n",
            "| 36|            les paul|         the carioca|        1951|  pop|see carioca foxtr...| 60|0.001253132846594...|0.001253132959384...| 0.08135973348824782|0.001253132854862...|0.001253132837275...|0.030950545110182432|  0.3845678800840667|0.001253132959681533|0.001253132953129...| 0.11192240474070576|0.001253132920854...|     0.27050651738742854|0.001253132839944...|0.001253132844478...|0.001253132859360...| 0.04928471086140505| 0.5505252897216506| 0.6824090454580416| 0.4959834297022387|  0.5040485829959515| 0.8495465787304204| 0.6426314815838092|  romantic|0.9857142857142858|\n",
            "| 37|            les paul|        chicken reel|        1951|  pop|hahaha alright ye...|199|3.485535227537947...|0.018417243999769038|  0.3918787086344464|  3.4855351158604E-4| 0.02573724458875646|3.485535069821147E-4|3.485535105948182...|3.485535257326107...| 3.48553524416369E-4|3.485535202593539...|3.485535201363461E-4|    3.485535261632693...|3.485535173607878...|  0.2946503844236732|0.034922425345002624| 0.02608421311449935| 0.6360879454131919| 0.6403353588185523|0.48393522483456314|  0.7914979757085021| 0.7454657873042043| 0.5215065775828034|world/life|0.9857142857142858|\n",
            "| 40|            les paul|          blue skies|        1951|  pop|blue sky smile bl...| 43|0.001385041557432...|0.001385041553937035|0.001385041696435...| 0.06550661481573684|0.001385041564562...|0.001385041554766...|0.001385041566589...|0.001385041650192...|0.001385041561659...|  0.6006329459604957|0.001385041581262732|     0.24915368937584695|0.001385041551246...|0.001385041617456...|0.001385041573338...| 0.06393112616405651| 0.6350048738221598| 0.6048765479578493| 0.9919678634215497|   0.847165991902834|0.46207749381698277| 0.2842619309031472|     music|0.9857142857142858|\n",
            "| 44|            les paul|           dark eyes|        1951|  pop|light bright dark...|182|3.580379591843399...|  0.3781187914066113| 0.03093421121810617|3.580379896536060...|0.025127184888346726|3.580379682560033E-4| 0.03253432436191869|0.019480574101471988| 0.09372454654808124|3.580379900042169...| 0.13555150383470232|     0.05895109008592597|3.580379785269537...| 0.08499433349111651| 0.06682182705274003|0.043335426063204265| 0.6025127260911947| 0.5772376483860215| 0.9929718804938561|  0.8744939271255062| 0.6094394064303379|0.29126915675444515|  violence|0.9857142857142858|\n",
            "| 53|         asha bhosle|       kotha mukunda|        1952|  pop|wander garden fen...| 48|0.002024291536932...|  0.4323963105509871|0.002024291621314...|0.002024291557085...|0.002024291510049883|0.002024291520086...|0.002024291518860039|  0.4635940269865534|0.002024291618156413|0.002024291691415...|0.002024291594780...|    0.002024291548014...| 0.03248903355171495|0.002024291670086632|0.002024291629230...| 0.04115625537039613|0.37939997833856826| 0.5420608671127861| 0.9849397439154056|  0.5728744939271255| 0.4332234130255565| 0.2882660599610318|  violence|0.9714285714285714|\n",
            "| 54|         asha bhosle|awaz deta hai sol...|        1952|  pop|easier bitch leav...|148|4.314063899894701E-4|0.031303771468331965|4.314064008904105...|  4.3140641125103E-4| 0.01690599066470645| 0.30960021975293467|0.005947658109787887|4.314064175253740...|0.055846990437296226| 0.07220889304049678|4.314064075383198E-4|    4.314064176535885E-4|4.314064729447575...|4.314064329234974...|4.314064185449645E-4|  0.4264571683737991| 0.4996209249431388| 0.6737430454067636| 0.9969879487830812|5.789473684210527E-4|  0.703215169002473|0.24021651126641788|  feelings|0.9714285714285714|\n",
            "+---+--------------------+--------------------+------------+-----+--------------------+---+--------------------+--------------------+--------------------+--------------------+--------------------+--------------------+--------------------+--------------------+--------------------+--------------------+--------------------+------------------------+--------------------+--------------------+--------------------+--------------------+-------------------+-------------------+-------------------+--------------------+-------------------+-------------------+----------+------------------+\n",
            "only showing top 20 rows\n",
            "\n"
          ]
        }
      ]
    },
    {
      "cell_type": "code",
      "source": [
        "# Select only the relevant columns\n",
        "mendeley_df = mendely_df.select('artist_name', 'track_name', 'release_date', 'genre', 'lyrics')\n",
        "\n",
        "mendeley_df.show(3)"
      ],
      "metadata": {
        "colab": {
          "base_uri": "https://localhost:8080/"
        },
        "id": "vxJbso0Ryfil",
        "outputId": "6eea8ff9-9459-4c38-ffd0-12d672105715"
      },
      "execution_count": 32,
      "outputs": [
        {
          "output_type": "stream",
          "name": "stdout",
          "text": [
            "+-------------+--------------------+------------+-----+--------------------+\n",
            "|  artist_name|          track_name|release_date|genre|              lyrics|\n",
            "+-------------+--------------------+------------+-----+--------------------+\n",
            "|       mukesh|mohabbat bhi jhoothi|        1950|  pop|hold time feel br...|\n",
            "|frankie laine|           i believe|        1950|  pop|believe drop rain...|\n",
            "|  johnnie ray|                 cry|        1950|  pop|sweetheart send l...|\n",
            "+-------------+--------------------+------------+-----+--------------------+\n",
            "only showing top 3 rows\n",
            "\n"
          ]
        }
      ]
    },
    {
      "cell_type": "code",
      "source": [
        "spark = SparkSession.builder.appName(\"MusicGenreClassifier\").getOrCreate()"
      ],
      "metadata": {
        "id": "DsGCTnd9vjHh"
      },
      "execution_count": 33,
      "outputs": []
    },
    {
      "cell_type": "code",
      "source": [
        "# Index Labels (Genres)\n",
        "label_indexer = StringIndexer(inputCol=\"genre\", outputCol=\"label\")"
      ],
      "metadata": {
        "id": "hv3vUH2qwkTv"
      },
      "execution_count": 34,
      "outputs": []
    },
    {
      "cell_type": "code",
      "source": [
        "from pyspark.sql.functions import regexp_replace, lower\n",
        "#remove punctuations and lowercase\n",
        "def clean_lyrics(df):\n",
        "    df = df.withColumn('clean_lyrics', lower(regexp_replace('lyrics', '[^\\w\\s]', '')))\n",
        "    return df"
      ],
      "metadata": {
        "id": "avTHCBWrwpYC"
      },
      "execution_count": 35,
      "outputs": []
    },
    {
      "cell_type": "code",
      "source": [
        "#remove numbers\n",
        "def remove_numbers(df):\n",
        "    df = df.withColumn('clean_lyrics', regexp_replace('clean_lyrics', '\\d+', ''))\n",
        "    return df"
      ],
      "metadata": {
        "id": "4qx2u5xQw57F"
      },
      "execution_count": 36,
      "outputs": []
    },
    {
      "cell_type": "code",
      "source": [
        "from pyspark.ml.feature import Tokenizer\n",
        "\n",
        "tokenizer = Tokenizer(inputCol='clean_lyrics', outputCol='words')\n"
      ],
      "metadata": {
        "id": "SzssZO8uxAzP"
      },
      "execution_count": 37,
      "outputs": []
    },
    {
      "cell_type": "code",
      "source": [
        "from pyspark.ml.feature import StopWordsRemover\n",
        "\n",
        "remover = StopWordsRemover(inputCol='words', outputCol='filtered_words')"
      ],
      "metadata": {
        "id": "UIfvPGK5xCvO"
      },
      "execution_count": 38,
      "outputs": []
    },
    {
      "cell_type": "code",
      "source": [
        "from nltk.stem.porter import PorterStemmer\n",
        "from pyspark.sql.functions import udf\n",
        "from pyspark.sql.types import ArrayType, StringType\n",
        "\n",
        "stemmer = PorterStemmer() #reducing words into base forms\n",
        "\n",
        "def stem_words(words):\n",
        "    return [stemmer.stem(word) for word in words]\n",
        "\n",
        "stem_udf = udf(stem_words, ArrayType(StringType()))\n"
      ],
      "metadata": {
        "id": "2ya4AWOcxFe7"
      },
      "execution_count": 39,
      "outputs": []
    },
    {
      "cell_type": "code",
      "source": [
        "from pyspark.ml.feature import Word2Vec\n",
        "\n",
        "word2Vec = Word2Vec(vectorSize=100, minCount=1, inputCol=\"stemmed_words\", outputCol=\"features\")"
      ],
      "metadata": {
        "id": "IufaxX2gxIxz"
      },
      "execution_count": 40,
      "outputs": []
    },
    {
      "cell_type": "code",
      "source": [
        "from pyspark.ml.classification import RandomForestClassifier\n",
        "\n",
        "classifier = RandomForestClassifier(labelCol=\"label\", featuresCol=\"features\", numTrees=100)"
      ],
      "metadata": {
        "id": "TTjH9hFOxWiu"
      },
      "execution_count": 41,
      "outputs": []
    },
    {
      "cell_type": "code",
      "source": [
        "#encode genre labels\n",
        "from pyspark.ml.feature import StringIndexer\n",
        "\n",
        "label_indexer = StringIndexer(inputCol='genre', outputCol='label')"
      ],
      "metadata": {
        "id": "EjQToJwzxY3t"
      },
      "execution_count": 42,
      "outputs": []
    },
    {
      "cell_type": "markdown",
      "source": [
        "**Pipeline**"
      ],
      "metadata": {
        "id": "P5yJXDXGxeKD"
      }
    },
    {
      "cell_type": "code",
      "source": [
        "cleaned_df = clean_lyrics(mendeley_df)\n",
        "cleaned_df = remove_numbers(cleaned_df)"
      ],
      "metadata": {
        "id": "YMrWC0EnuqrF"
      },
      "execution_count": 46,
      "outputs": []
    },
    {
      "cell_type": "code",
      "source": [
        "train_data, test_data = cleaned_df.randomSplit([0.8, 0.2], seed=42)"
      ],
      "metadata": {
        "id": "j4Cro2zzurPP"
      },
      "execution_count": 47,
      "outputs": []
    },
    {
      "cell_type": "code",
      "source": [
        "# 1. Tokenize\n",
        "train_data = tokenizer.transform(train_data)\n",
        "test_data = tokenizer.transform(test_data)"
      ],
      "metadata": {
        "id": "XXenDSbDuZfh"
      },
      "execution_count": 48,
      "outputs": []
    },
    {
      "cell_type": "code",
      "source": [
        "# 2. Remove stopwords\n",
        "train_data = remover.transform(train_data)\n",
        "test_data = remover.transform(test_data)"
      ],
      "metadata": {
        "id": "w1BVqnwRub8b"
      },
      "execution_count": 49,
      "outputs": []
    },
    {
      "cell_type": "code",
      "source": [
        "# 3. Apply stemming manually\n",
        "train_data = train_data.withColumn(\"stemmed_words\", stem_udf(col(\"filtered_words\")))\n",
        "test_data = test_data.withColumn(\"stemmed_words\", stem_udf(col(\"filtered_words\")))"
      ],
      "metadata": {
        "id": "iwd0N4igugP-"
      },
      "execution_count": 51,
      "outputs": []
    },
    {
      "cell_type": "code",
      "source": [
        "from pyspark.ml import Pipeline\n",
        "\n",
        "#lyrics → cleanser → numerator → tokenizer → stop word remover → exploder → stemmer → uniter → verser → word2vec → model\n",
        "\n",
        "\n",
        "\n",
        "# 4. Build pipeline\n",
        "pipeline = Pipeline(stages=[\n",
        "    word2Vec,\n",
        "    label_indexer,\n",
        "    classifier\n",
        "])\n"
      ],
      "metadata": {
        "id": "IOzHqfdwxco_"
      },
      "execution_count": 52,
      "outputs": []
    },
    {
      "cell_type": "code",
      "source": [
        "model = pipeline.fit(train_data)\n",
        "predictions = model.transform(test_data)"
      ],
      "metadata": {
        "id": "17bwBzY8ypit"
      },
      "execution_count": 53,
      "outputs": []
    },
    {
      "cell_type": "code",
      "source": [
        "predictions.select('artist_name', 'track_name', 'genre', 'prediction').show(5)"
      ],
      "metadata": {
        "colab": {
          "base_uri": "https://localhost:8080/"
        },
        "id": "MLVr_C1nytaI",
        "outputId": "e5b71b96-4f9b-4088-d2fa-81599b8d3041"
      },
      "execution_count": 54,
      "outputs": [
        {
          "output_type": "stream",
          "name": "stdout",
          "text": [
            "+--------------------+--------------------+-----+----------+\n",
            "|         artist_name|          track_name|genre|prediction|\n",
            "+--------------------+--------------------+-----+----------+\n",
            "|\"\"\"weird al\"\" yan...|christmas at grou...|  pop|       0.0|\n",
            "|\"\"\"weird al\"\" yan...|       king of suede|  pop|       0.0|\n",
            "|\"\"\"weird al\"\" yan...|mr. frump in the ...|  pop|       0.0|\n",
            "|\"\"\"weird al\"\" yan...|your horoscope fo...|  pop|       0.0|\n",
            "|\"bobby \"\"blue\"\" b...|get your money wh...|blues|       0.0|\n",
            "+--------------------+--------------------+-----+----------+\n",
            "only showing top 5 rows\n",
            "\n"
          ]
        }
      ]
    },
    {
      "cell_type": "code",
      "source": [
        "model.save(\"/path/to/save/my_pipeline_model\")"
      ],
      "metadata": {
        "id": "MsggRSv8xa53"
      },
      "execution_count": 55,
      "outputs": []
    },
    {
      "cell_type": "code",
      "source": [
        "from google.colab import drive\n",
        "drive.mount('/content/drive')"
      ],
      "metadata": {
        "colab": {
          "base_uri": "https://localhost:8080/"
        },
        "id": "ckJ7yHv_yA6X",
        "outputId": "bd8269aa-939c-4165-b1bc-945a71f39cff"
      },
      "execution_count": 56,
      "outputs": [
        {
          "output_type": "stream",
          "name": "stdout",
          "text": [
            "Drive already mounted at /content/drive; to attempt to forcibly remount, call drive.mount(\"/content/drive\", force_remount=True).\n"
          ]
        }
      ]
    },
    {
      "cell_type": "code",
      "source": [
        "save_path = \"/content/drive/My Drive/pyspark_models/my_pipeline_model\"\n",
        "model.write().overwrite().save(save_path)"
      ],
      "metadata": {
        "id": "2ZcD4YX0x9xd"
      },
      "execution_count": 57,
      "outputs": []
    },
    {
      "cell_type": "code",
      "source": [
        "!zip -r /content/drive/My\\ Drive/pyspark_models/my_pipeline_model.zip /content/drive/My\\ Drive/pyspark_models/my_pipeline_model"
      ],
      "metadata": {
        "colab": {
          "base_uri": "https://localhost:8080/"
        },
        "collapsed": true,
        "id": "JxKwj-KCySGg",
        "outputId": "ceb7102f-7055-4d68-eff4-dd1582b24cbd"
      },
      "execution_count": 58,
      "outputs": [
        {
          "output_type": "stream",
          "name": "stdout",
          "text": [
            "  adding: content/drive/My Drive/pyspark_models/my_pipeline_model/ (stored 0%)\n",
            "  adding: content/drive/My Drive/pyspark_models/my_pipeline_model/metadata/ (stored 0%)\n",
            "  adding: content/drive/My Drive/pyspark_models/my_pipeline_model/metadata/part-00000 (deflated 22%)\n",
            "  adding: content/drive/My Drive/pyspark_models/my_pipeline_model/metadata/.part-00000.crc (stored 0%)\n",
            "  adding: content/drive/My Drive/pyspark_models/my_pipeline_model/metadata/_SUCCESS (stored 0%)\n",
            "  adding: content/drive/My Drive/pyspark_models/my_pipeline_model/metadata/._SUCCESS.crc (stored 0%)\n",
            "  adding: content/drive/My Drive/pyspark_models/my_pipeline_model/stages/ (stored 0%)\n",
            "  adding: content/drive/My Drive/pyspark_models/my_pipeline_model/stages/0_Word2Vec_eb68388d227a/ (stored 0%)\n",
            "  adding: content/drive/My Drive/pyspark_models/my_pipeline_model/stages/0_Word2Vec_eb68388d227a/metadata/ (stored 0%)\n",
            "  adding: content/drive/My Drive/pyspark_models/my_pipeline_model/stages/0_Word2Vec_eb68388d227a/metadata/part-00000 (deflated 39%)\n",
            "  adding: content/drive/My Drive/pyspark_models/my_pipeline_model/stages/0_Word2Vec_eb68388d227a/metadata/.part-00000.crc (stored 0%)\n",
            "  adding: content/drive/My Drive/pyspark_models/my_pipeline_model/stages/0_Word2Vec_eb68388d227a/metadata/_SUCCESS (stored 0%)\n",
            "  adding: content/drive/My Drive/pyspark_models/my_pipeline_model/stages/0_Word2Vec_eb68388d227a/metadata/._SUCCESS.crc (stored 0%)\n",
            "  adding: content/drive/My Drive/pyspark_models/my_pipeline_model/stages/0_Word2Vec_eb68388d227a/data/ (stored 0%)\n",
            "  adding: content/drive/My Drive/pyspark_models/my_pipeline_model/stages/0_Word2Vec_eb68388d227a/data/part-00000-5553f5c3-b11b-449f-b684-96f9ced53716-c000.snappy.parquet (deflated 6%)\n",
            "  adding: content/drive/My Drive/pyspark_models/my_pipeline_model/stages/0_Word2Vec_eb68388d227a/data/.part-00000-5553f5c3-b11b-449f-b684-96f9ced53716-c000.snappy.parquet.crc (deflated 0%)\n",
            "  adding: content/drive/My Drive/pyspark_models/my_pipeline_model/stages/0_Word2Vec_eb68388d227a/data/_SUCCESS (stored 0%)\n",
            "  adding: content/drive/My Drive/pyspark_models/my_pipeline_model/stages/0_Word2Vec_eb68388d227a/data/._SUCCESS.crc (stored 0%)\n",
            "  adding: content/drive/My Drive/pyspark_models/my_pipeline_model/stages/1_StringIndexer_a71859e84945/ (stored 0%)\n",
            "  adding: content/drive/My Drive/pyspark_models/my_pipeline_model/stages/1_StringIndexer_a71859e84945/metadata/ (stored 0%)\n",
            "  adding: content/drive/My Drive/pyspark_models/my_pipeline_model/stages/1_StringIndexer_a71859e84945/metadata/part-00000 (deflated 35%)\n",
            "  adding: content/drive/My Drive/pyspark_models/my_pipeline_model/stages/1_StringIndexer_a71859e84945/metadata/.part-00000.crc (stored 0%)\n",
            "  adding: content/drive/My Drive/pyspark_models/my_pipeline_model/stages/1_StringIndexer_a71859e84945/metadata/_SUCCESS (stored 0%)\n",
            "  adding: content/drive/My Drive/pyspark_models/my_pipeline_model/stages/1_StringIndexer_a71859e84945/metadata/._SUCCESS.crc (stored 0%)\n",
            "  adding: content/drive/My Drive/pyspark_models/my_pipeline_model/stages/1_StringIndexer_a71859e84945/data/ (stored 0%)\n",
            "  adding: content/drive/My Drive/pyspark_models/my_pipeline_model/stages/1_StringIndexer_a71859e84945/data/part-00000-fd0dddd0-c305-4110-96d5-45e4e65a115b-c000.snappy.parquet (deflated 33%)\n",
            "  adding: content/drive/My Drive/pyspark_models/my_pipeline_model/stages/1_StringIndexer_a71859e84945/data/.part-00000-fd0dddd0-c305-4110-96d5-45e4e65a115b-c000.snappy.parquet.crc (stored 0%)\n",
            "  adding: content/drive/My Drive/pyspark_models/my_pipeline_model/stages/1_StringIndexer_a71859e84945/data/_SUCCESS (stored 0%)\n",
            "  adding: content/drive/My Drive/pyspark_models/my_pipeline_model/stages/1_StringIndexer_a71859e84945/data/._SUCCESS.crc (stored 0%)\n",
            "  adding: content/drive/My Drive/pyspark_models/my_pipeline_model/stages/2_RandomForestClassifier_c6989f85a446/ (stored 0%)\n",
            "  adding: content/drive/My Drive/pyspark_models/my_pipeline_model/stages/2_RandomForestClassifier_c6989f85a446/metadata/ (stored 0%)\n",
            "  adding: content/drive/My Drive/pyspark_models/my_pipeline_model/stages/2_RandomForestClassifier_c6989f85a446/metadata/part-00000 (deflated 45%)\n",
            "  adding: content/drive/My Drive/pyspark_models/my_pipeline_model/stages/2_RandomForestClassifier_c6989f85a446/metadata/.part-00000.crc (stored 0%)\n",
            "  adding: content/drive/My Drive/pyspark_models/my_pipeline_model/stages/2_RandomForestClassifier_c6989f85a446/metadata/_SUCCESS (stored 0%)\n",
            "  adding: content/drive/My Drive/pyspark_models/my_pipeline_model/stages/2_RandomForestClassifier_c6989f85a446/metadata/._SUCCESS.crc (stored 0%)\n",
            "  adding: content/drive/My Drive/pyspark_models/my_pipeline_model/stages/2_RandomForestClassifier_c6989f85a446/treesMetadata/ (stored 0%)\n",
            "  adding: content/drive/My Drive/pyspark_models/my_pipeline_model/stages/2_RandomForestClassifier_c6989f85a446/treesMetadata/part-00000-ce4eefbb-1e18-469a-b4eb-57ad2b698628-c000.snappy.parquet (deflated 30%)\n",
            "  adding: content/drive/My Drive/pyspark_models/my_pipeline_model/stages/2_RandomForestClassifier_c6989f85a446/treesMetadata/.part-00000-ce4eefbb-1e18-469a-b4eb-57ad2b698628-c000.snappy.parquet.crc (stored 0%)\n",
            "  adding: content/drive/My Drive/pyspark_models/my_pipeline_model/stages/2_RandomForestClassifier_c6989f85a446/treesMetadata/_SUCCESS (stored 0%)\n",
            "  adding: content/drive/My Drive/pyspark_models/my_pipeline_model/stages/2_RandomForestClassifier_c6989f85a446/treesMetadata/._SUCCESS.crc (stored 0%)\n",
            "  adding: content/drive/My Drive/pyspark_models/my_pipeline_model/stages/2_RandomForestClassifier_c6989f85a446/data/ (stored 0%)\n",
            "  adding: content/drive/My Drive/pyspark_models/my_pipeline_model/stages/2_RandomForestClassifier_c6989f85a446/data/part-00000-dbdc28c9-22f8-4a84-8747-1cd139bd6987-c000.snappy.parquet (deflated 11%)\n",
            "  adding: content/drive/My Drive/pyspark_models/my_pipeline_model/stages/2_RandomForestClassifier_c6989f85a446/data/.part-00000-dbdc28c9-22f8-4a84-8747-1cd139bd6987-c000.snappy.parquet.crc (stored 0%)\n",
            "  adding: content/drive/My Drive/pyspark_models/my_pipeline_model/stages/2_RandomForestClassifier_c6989f85a446/data/_SUCCESS (stored 0%)\n",
            "  adding: content/drive/My Drive/pyspark_models/my_pipeline_model/stages/2_RandomForestClassifier_c6989f85a446/data/._SUCCESS.crc (stored 0%)\n"
          ]
        }
      ]
    },
    {
      "cell_type": "markdown",
      "source": [
        "Evaluate"
      ],
      "metadata": {
        "id": "VmYw0y58vgzC"
      }
    },
    {
      "cell_type": "code",
      "source": [
        "from pyspark.ml import PipelineModel\n",
        "load_path = \"/content/drive/My Drive/pyspark_models/my_pipeline_model\"\n",
        "loaded_model = PipelineModel.load(load_path)"
      ],
      "metadata": {
        "id": "wYJzJNkexaMq"
      },
      "execution_count": 59,
      "outputs": []
    },
    {
      "cell_type": "code",
      "source": [
        "from pyspark.ml.evaluation import MulticlassClassificationEvaluator\n",
        "\n",
        "evaluator = MulticlassClassificationEvaluator(labelCol=\"label\", predictionCol=\"prediction\", metricName=\"accuracy\")\n",
        "accuracy = evaluator.evaluate(predictions)\n",
        "print(f\"Test set accuracy: {accuracy:.2f}\")\n"
      ],
      "metadata": {
        "colab": {
          "base_uri": "https://localhost:8080/"
        },
        "id": "7qs-ixfxyyND",
        "outputId": "085c6b33-cb20-41c9-979c-d2d3cf0be3c3"
      },
      "execution_count": 60,
      "outputs": [
        {
          "output_type": "stream",
          "name": "stdout",
          "text": [
            "Test set accuracy: 0.26\n"
          ]
        }
      ]
    },
    {
      "cell_type": "markdown",
      "source": [
        "# Dataset"
      ],
      "metadata": {
        "id": "45TE_BlEvvG-"
      }
    },
    {
      "cell_type": "code",
      "source": [],
      "metadata": {
        "id": "ZM2XTEPDvupm"
      },
      "execution_count": null,
      "outputs": []
    }
  ]
}