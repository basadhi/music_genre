{
  "nbformat": 4,
  "nbformat_minor": 0,
  "metadata": {
    "colab": {
      "provenance": [],
      "mount_file_id": "1iMmV9_pbXiWKu7SZP18dEGxkXJRih-Zd",
      "authorship_tag": "ABX9TyOI+X6zJlgFfiEtOFz3zHbE",
      "include_colab_link": true
    },
    "kernelspec": {
      "name": "python3",
      "display_name": "Python 3"
    },
    "language_info": {
      "name": "python"
    }
  },
  "cells": [
    {
      "cell_type": "markdown",
      "metadata": {
        "id": "view-in-github",
        "colab_type": "text"
      },
      "source": [
        "<a href=\"https://colab.research.google.com/github/basadhi/music_genre/blob/main/Music_Genre.ipynb\" target=\"_parent\"><img src=\"https://colab.research.google.com/assets/colab-badge.svg\" alt=\"Open In Colab\"/></a>"
      ]
    },
    {
      "cell_type": "markdown",
      "source": [
        "# Classification model"
      ],
      "metadata": {
        "id": "W3STy4YxwYfi"
      }
    },
    {
      "cell_type": "code",
      "execution_count": 1,
      "metadata": {
        "colab": {
          "base_uri": "https://localhost:8080/"
        },
        "id": "1y5mpoSUvhsv",
        "outputId": "a71babd2-4f2b-4669-86d7-9575d79f66c2"
      },
      "outputs": [
        {
          "output_type": "stream",
          "name": "stdout",
          "text": [
            "Requirement already satisfied: pyspark in /usr/local/lib/python3.11/dist-packages (3.5.1)\n",
            "Requirement already satisfied: pandas in /usr/local/lib/python3.11/dist-packages (2.2.2)\n",
            "Requirement already satisfied: matplotlib in /usr/local/lib/python3.11/dist-packages (3.10.0)\n",
            "Collecting streamlit\n",
            "  Downloading streamlit-1.45.0-py3-none-any.whl.metadata (8.9 kB)\n",
            "Requirement already satisfied: py4j==0.10.9.7 in /usr/local/lib/python3.11/dist-packages (from pyspark) (0.10.9.7)\n",
            "Requirement already satisfied: numpy>=1.23.2 in /usr/local/lib/python3.11/dist-packages (from pandas) (2.0.2)\n",
            "Requirement already satisfied: python-dateutil>=2.8.2 in /usr/local/lib/python3.11/dist-packages (from pandas) (2.9.0.post0)\n",
            "Requirement already satisfied: pytz>=2020.1 in /usr/local/lib/python3.11/dist-packages (from pandas) (2025.2)\n",
            "Requirement already satisfied: tzdata>=2022.7 in /usr/local/lib/python3.11/dist-packages (from pandas) (2025.2)\n",
            "Requirement already satisfied: contourpy>=1.0.1 in /usr/local/lib/python3.11/dist-packages (from matplotlib) (1.3.2)\n",
            "Requirement already satisfied: cycler>=0.10 in /usr/local/lib/python3.11/dist-packages (from matplotlib) (0.12.1)\n",
            "Requirement already satisfied: fonttools>=4.22.0 in /usr/local/lib/python3.11/dist-packages (from matplotlib) (4.57.0)\n",
            "Requirement already satisfied: kiwisolver>=1.3.1 in /usr/local/lib/python3.11/dist-packages (from matplotlib) (1.4.8)\n",
            "Requirement already satisfied: packaging>=20.0 in /usr/local/lib/python3.11/dist-packages (from matplotlib) (24.2)\n",
            "Requirement already satisfied: pillow>=8 in /usr/local/lib/python3.11/dist-packages (from matplotlib) (11.2.1)\n",
            "Requirement already satisfied: pyparsing>=2.3.1 in /usr/local/lib/python3.11/dist-packages (from matplotlib) (3.2.3)\n",
            "Requirement already satisfied: altair<6,>=4.0 in /usr/local/lib/python3.11/dist-packages (from streamlit) (5.5.0)\n",
            "Requirement already satisfied: blinker<2,>=1.5.0 in /usr/local/lib/python3.11/dist-packages (from streamlit) (1.9.0)\n",
            "Requirement already satisfied: cachetools<6,>=4.0 in /usr/local/lib/python3.11/dist-packages (from streamlit) (5.5.2)\n",
            "Requirement already satisfied: click<9,>=7.0 in /usr/local/lib/python3.11/dist-packages (from streamlit) (8.1.8)\n",
            "Requirement already satisfied: protobuf<7,>=3.20 in /usr/local/lib/python3.11/dist-packages (from streamlit) (5.29.4)\n",
            "Requirement already satisfied: pyarrow>=7.0 in /usr/local/lib/python3.11/dist-packages (from streamlit) (18.1.0)\n",
            "Requirement already satisfied: requests<3,>=2.27 in /usr/local/lib/python3.11/dist-packages (from streamlit) (2.32.3)\n",
            "Requirement already satisfied: tenacity<10,>=8.1.0 in /usr/local/lib/python3.11/dist-packages (from streamlit) (9.1.2)\n",
            "Requirement already satisfied: toml<2,>=0.10.1 in /usr/local/lib/python3.11/dist-packages (from streamlit) (0.10.2)\n",
            "Requirement already satisfied: typing-extensions<5,>=4.4.0 in /usr/local/lib/python3.11/dist-packages (from streamlit) (4.13.2)\n",
            "Collecting watchdog<7,>=2.1.5 (from streamlit)\n",
            "  Downloading watchdog-6.0.0-py3-none-manylinux2014_x86_64.whl.metadata (44 kB)\n",
            "\u001b[2K     \u001b[90m━━━━━━━━━━━━━━━━━━━━━━━━━━━━━━━━━━━━━━━━\u001b[0m \u001b[32m44.3/44.3 kB\u001b[0m \u001b[31m1.5 MB/s\u001b[0m eta \u001b[36m0:00:00\u001b[0m\n",
            "\u001b[?25hRequirement already satisfied: gitpython!=3.1.19,<4,>=3.0.7 in /usr/local/lib/python3.11/dist-packages (from streamlit) (3.1.44)\n",
            "Collecting pydeck<1,>=0.8.0b4 (from streamlit)\n",
            "  Downloading pydeck-0.9.1-py2.py3-none-any.whl.metadata (4.1 kB)\n",
            "Requirement already satisfied: tornado<7,>=6.0.3 in /usr/local/lib/python3.11/dist-packages (from streamlit) (6.4.2)\n",
            "Requirement already satisfied: jinja2 in /usr/local/lib/python3.11/dist-packages (from altair<6,>=4.0->streamlit) (3.1.6)\n",
            "Requirement already satisfied: jsonschema>=3.0 in /usr/local/lib/python3.11/dist-packages (from altair<6,>=4.0->streamlit) (4.23.0)\n",
            "Requirement already satisfied: narwhals>=1.14.2 in /usr/local/lib/python3.11/dist-packages (from altair<6,>=4.0->streamlit) (1.37.1)\n",
            "Requirement already satisfied: gitdb<5,>=4.0.1 in /usr/local/lib/python3.11/dist-packages (from gitpython!=3.1.19,<4,>=3.0.7->streamlit) (4.0.12)\n",
            "Requirement already satisfied: six>=1.5 in /usr/local/lib/python3.11/dist-packages (from python-dateutil>=2.8.2->pandas) (1.17.0)\n",
            "Requirement already satisfied: charset-normalizer<4,>=2 in /usr/local/lib/python3.11/dist-packages (from requests<3,>=2.27->streamlit) (3.4.1)\n",
            "Requirement already satisfied: idna<4,>=2.5 in /usr/local/lib/python3.11/dist-packages (from requests<3,>=2.27->streamlit) (3.10)\n",
            "Requirement already satisfied: urllib3<3,>=1.21.1 in /usr/local/lib/python3.11/dist-packages (from requests<3,>=2.27->streamlit) (2.4.0)\n",
            "Requirement already satisfied: certifi>=2017.4.17 in /usr/local/lib/python3.11/dist-packages (from requests<3,>=2.27->streamlit) (2025.4.26)\n",
            "Requirement already satisfied: smmap<6,>=3.0.1 in /usr/local/lib/python3.11/dist-packages (from gitdb<5,>=4.0.1->gitpython!=3.1.19,<4,>=3.0.7->streamlit) (5.0.2)\n",
            "Requirement already satisfied: MarkupSafe>=2.0 in /usr/local/lib/python3.11/dist-packages (from jinja2->altair<6,>=4.0->streamlit) (3.0.2)\n",
            "Requirement already satisfied: attrs>=22.2.0 in /usr/local/lib/python3.11/dist-packages (from jsonschema>=3.0->altair<6,>=4.0->streamlit) (25.3.0)\n",
            "Requirement already satisfied: jsonschema-specifications>=2023.03.6 in /usr/local/lib/python3.11/dist-packages (from jsonschema>=3.0->altair<6,>=4.0->streamlit) (2025.4.1)\n",
            "Requirement already satisfied: referencing>=0.28.4 in /usr/local/lib/python3.11/dist-packages (from jsonschema>=3.0->altair<6,>=4.0->streamlit) (0.36.2)\n",
            "Requirement already satisfied: rpds-py>=0.7.1 in /usr/local/lib/python3.11/dist-packages (from jsonschema>=3.0->altair<6,>=4.0->streamlit) (0.24.0)\n",
            "Downloading streamlit-1.45.0-py3-none-any.whl (9.9 MB)\n",
            "\u001b[2K   \u001b[90m━━━━━━━━━━━━━━━━━━━━━━━━━━━━━━━━━━━━━━━━\u001b[0m \u001b[32m9.9/9.9 MB\u001b[0m \u001b[31m49.0 MB/s\u001b[0m eta \u001b[36m0:00:00\u001b[0m\n",
            "\u001b[?25hDownloading pydeck-0.9.1-py2.py3-none-any.whl (6.9 MB)\n",
            "\u001b[2K   \u001b[90m━━━━━━━━━━━━━━━━━━━━━━━━━━━━━━━━━━━━━━━━\u001b[0m \u001b[32m6.9/6.9 MB\u001b[0m \u001b[31m65.1 MB/s\u001b[0m eta \u001b[36m0:00:00\u001b[0m\n",
            "\u001b[?25hDownloading watchdog-6.0.0-py3-none-manylinux2014_x86_64.whl (79 kB)\n",
            "\u001b[2K   \u001b[90m━━━━━━━━━━━━━━━━━━━━━━━━━━━━━━━━━━━━━━━━\u001b[0m \u001b[32m79.1/79.1 kB\u001b[0m \u001b[31m5.2 MB/s\u001b[0m eta \u001b[36m0:00:00\u001b[0m\n",
            "\u001b[?25hInstalling collected packages: watchdog, pydeck, streamlit\n",
            "Successfully installed pydeck-0.9.1 streamlit-1.45.0 watchdog-6.0.0\n"
          ]
        }
      ],
      "source": [
        "pip install pyspark pandas matplotlib streamlit"
      ]
    },
    {
      "cell_type": "code",
      "source": [
        "from pyspark.sql import SparkSession\n",
        "from pyspark.sql.functions import col\n",
        "from pyspark.ml import Pipeline\n",
        "from pyspark.ml.feature import Tokenizer, StopWordsRemover, HashingTF, IDF, StringIndexer\n",
        "from pyspark.ml.classification import RandomForestClassifier\n",
        "from pyspark.ml.evaluation import MulticlassClassificationEvaluator\n",
        "import os\n",
        "from pyspark.sql import functions as F\n",
        "from pyspark.sql.window import Window"
      ],
      "metadata": {
        "id": "wknM5k7owfu4"
      },
      "execution_count": 15,
      "outputs": []
    },
    {
      "cell_type": "code",
      "source": [
        "spark = SparkSession.builder \\\n",
        "    .appName(\"MusicGenreClassifier\") \\\n",
        "    .getOrCreate()"
      ],
      "metadata": {
        "id": "DKZsFwVgwjGS"
      },
      "execution_count": 3,
      "outputs": []
    },
    {
      "cell_type": "code",
      "source": [
        "mendeley_df = spark.read.csv(\"/content/drive/MyDrive/tcc_ceds_music.csv\", header=True, inferSchema=True)"
      ],
      "metadata": {
        "id": "fK4MX2CuwmRv"
      },
      "execution_count": 5,
      "outputs": []
    },
    {
      "cell_type": "code",
      "source": [
        "columns_needed = [\"artist_name\", \"track_name\", \"release_date\", \"genre\", \"lyrics\"]\n",
        "mendeley_df = mendeley_df.select(columns_needed)"
      ],
      "metadata": {
        "id": "r6_LfJwTwvpS"
      },
      "execution_count": 6,
      "outputs": []
    },
    {
      "cell_type": "code",
      "source": [
        "train_df, test_df = mendeley_df.randomSplit([0.8, 0.2], seed=42)"
      ],
      "metadata": {
        "id": "Pa7BmcZ3w4Hd"
      },
      "execution_count": 7,
      "outputs": []
    },
    {
      "cell_type": "code",
      "source": [
        "tokenizer = Tokenizer(inputCol=\"lyrics\", outputCol=\"words\")\n",
        "stopword_remover = StopWordsRemover(inputCol=\"words\", outputCol=\"filtered_words\")\n",
        "hashing_tf = HashingTF(inputCol=\"filtered_words\", outputCol=\"raw_features\", numFeatures=10000)\n",
        "idf = IDF(inputCol=\"raw_features\", outputCol=\"features\")\n",
        "label_indexer = StringIndexer(inputCol=\"genre\", outputCol=\"label\")"
      ],
      "metadata": {
        "id": "JPOyNLiFxAKj"
      },
      "execution_count": 8,
      "outputs": []
    },
    {
      "cell_type": "code",
      "source": [
        "rf_classifier = RandomForestClassifier(labelCol=\"label\", featuresCol=\"features\", numTrees=100)"
      ],
      "metadata": {
        "id": "tuXbQ5lixCr4"
      },
      "execution_count": 11,
      "outputs": []
    },
    {
      "cell_type": "code",
      "source": [
        "pipeline = Pipeline(stages=[\n",
        "    tokenizer,\n",
        "    stopword_remover,\n",
        "    hashing_tf,\n",
        "    idf,\n",
        "    label_indexer,\n",
        "    rf_classifier])"
      ],
      "metadata": {
        "id": "uXlnwT_GxHAX"
      },
      "execution_count": 12,
      "outputs": []
    },
    {
      "cell_type": "code",
      "source": [
        "model = pipeline.fit(train_df)"
      ],
      "metadata": {
        "id": "A1hiuPYHxJff"
      },
      "execution_count": 13,
      "outputs": []
    },
    {
      "cell_type": "code",
      "source": [
        "predictions = model.transform(test_df)\n",
        "evaluator = MulticlassClassificationEvaluator(labelCol=\"label\", predictionCol=\"prediction\", metricName=\"accuracy\")\n",
        "accuracy = evaluator.evaluate(predictions)\n",
        "print(f\"Test set accuracy: {accuracy:.4f}\")"
      ],
      "metadata": {
        "colab": {
          "base_uri": "https://localhost:8080/"
        },
        "id": "XCBdg3lAxOm5",
        "outputId": "b123ab60-73b6-49c9-a115-d343c728092c"
      },
      "execution_count": 14,
      "outputs": [
        {
          "output_type": "stream",
          "name": "stdout",
          "text": [
            "Test set accuracy: 0.2467\n"
          ]
        }
      ]
    },
    {
      "cell_type": "code",
      "source": [
        "class_counts = mendeley_df.groupBy(\"genre\").count()\n",
        "class_counts.show()"
      ],
      "metadata": {
        "colab": {
          "base_uri": "https://localhost:8080/"
        },
        "id": "AqGsfTtRxRCU",
        "outputId": "0686284c-d8be-47a6-c758-8bcb1a557765"
      },
      "execution_count": 16,
      "outputs": [
        {
          "output_type": "stream",
          "name": "stdout",
          "text": [
            "+-------+-----+\n",
            "|  genre|count|\n",
            "+-------+-----+\n",
            "|    pop| 7042|\n",
            "|  blues| 4604|\n",
            "|country| 5445|\n",
            "|   jazz| 3845|\n",
            "|hip hop|  904|\n",
            "|   rock| 4034|\n",
            "| reggae| 2498|\n",
            "+-------+-----+\n",
            "\n"
          ]
        }
      ]
    },
    {
      "cell_type": "code",
      "source": [
        "majority_count = class_counts.agg(F.max(\"count\")).collect()[0][0]\n",
        "print(majority_count)"
      ],
      "metadata": {
        "colab": {
          "base_uri": "https://localhost:8080/"
        },
        "id": "s2FESYxwyC9p",
        "outputId": "ae4f1485-0c3b-4f1d-c72e-090a26b5cece"
      },
      "execution_count": 18,
      "outputs": [
        {
          "output_type": "stream",
          "name": "stdout",
          "text": [
            "7042\n"
          ]
        }
      ]
    },
    {
      "cell_type": "code",
      "source": [
        "def upsample_class(df, label_col, majority_count):\n",
        "    genres = [row['genre'] for row in class_counts.collect()]\n",
        "    balanced_dfs = []\n",
        "\n",
        "    for g in genres:\n",
        "        class_df = df.filter(F.col(label_col) == g)\n",
        "        count = class_df.count()\n",
        "\n",
        "        # Calculate how many times to repeat\n",
        "        repeat_factor = majority_count // count\n",
        "        remainder = majority_count % count\n",
        "\n",
        "        # Repeat full dataset\n",
        "        repeated_df = class_df\n",
        "        for _ in range(repeat_factor - 1):\n",
        "            repeated_df = repeated_df.union(class_df)\n",
        "\n",
        "        # Sample additional remainder rows if needed\n",
        "        if remainder > 0:\n",
        "            sampled_df = class_df.sample(withReplacement=True, fraction=(remainder / count + 0.01), seed=42).limit(remainder)\n",
        "            repeated_df = repeated_df.union(sampled_df)\n",
        "\n",
        "        balanced_dfs.append(repeated_df)\n",
        "\n",
        "    # Combine all balanced classes\n",
        "    balanced_df = balanced_dfs[0]\n",
        "    for bdf in balanced_dfs[1:]:\n",
        "        balanced_df = balanced_df.union(bdf)\n",
        "\n",
        "    return balanced_df\n"
      ],
      "metadata": {
        "id": "fXfIwHjByHOK"
      },
      "execution_count": 19,
      "outputs": []
    },
    {
      "cell_type": "code",
      "source": [
        "balanced_df = upsample_class(mendeley_df, label_col=\"genre\", majority_count=majority_count)"
      ],
      "metadata": {
        "id": "i48Kb06Kybo0"
      },
      "execution_count": 20,
      "outputs": []
    },
    {
      "cell_type": "code",
      "source": [
        "balanced_df.groupBy(\"genre\").count().show()"
      ],
      "metadata": {
        "colab": {
          "base_uri": "https://localhost:8080/"
        },
        "id": "9-7YR82XygAo",
        "outputId": "1963ab0b-0662-4f02-f8c4-6f5ded3dcc1c"
      },
      "execution_count": 21,
      "outputs": [
        {
          "output_type": "stream",
          "name": "stdout",
          "text": [
            "+-------+-----+\n",
            "|  genre|count|\n",
            "+-------+-----+\n",
            "|    pop| 7042|\n",
            "|  blues| 7042|\n",
            "|country| 7042|\n",
            "|   jazz| 7042|\n",
            "|hip hop| 7032|\n",
            "|   rock| 7042|\n",
            "| reggae| 7042|\n",
            "+-------+-----+\n",
            "\n"
          ]
        }
      ]
    },
    {
      "cell_type": "code",
      "source": [
        "train_df_bl, test_df_bl = balanced_df.randomSplit([0.8, 0.2], seed=42)"
      ],
      "metadata": {
        "id": "N9XCW0aeyhnS"
      },
      "execution_count": 30,
      "outputs": []
    },
    {
      "cell_type": "code",
      "source": [
        "model = pipeline.fit(train_df_bl)"
      ],
      "metadata": {
        "id": "6r2z78rPyoN5"
      },
      "execution_count": 23,
      "outputs": []
    },
    {
      "cell_type": "code",
      "source": [
        "predictions = model.transform(test_df_bl)\n",
        "evaluator = MulticlassClassificationEvaluator(labelCol=\"label\", predictionCol=\"prediction\", metricName=\"accuracy\")\n",
        "accuracy = evaluator.evaluate(predictions)\n",
        "print(f\"Test set accuracy: {accuracy:.4f}\")"
      ],
      "metadata": {
        "colab": {
          "base_uri": "https://localhost:8080/"
        },
        "id": "M8_PW1ivyy9g",
        "outputId": "4f58254a-3a96-47e2-d42c-67f7908c1fa2"
      },
      "execution_count": 24,
      "outputs": [
        {
          "output_type": "stream",
          "name": "stdout",
          "text": [
            "Test set accuracy: 0.3456\n"
          ]
        }
      ]
    },
    {
      "cell_type": "code",
      "source": [
        "# Desired count per class\n",
        "TARGET_COUNT = 1000\n",
        "\n",
        "# Step 1: Get list of genres\n",
        "genres = [row['genre'] for row in mendeley_df.select('genre').distinct().collect()]\n",
        "\n",
        "# Step 2: For each genre, sample up to 1000 rows\n",
        "balanced_dfs = []\n",
        "for g in genres:\n",
        "    class_df = mendeley_df.filter(F.col(\"genre\") == g)\n",
        "\n",
        "    # If class has more than TARGET_COUNT, downsample randomly\n",
        "    class_count = class_df.count()\n",
        "    if class_count >= TARGET_COUNT:\n",
        "        sampled_df = class_df.sample(withReplacement=False, fraction=1.0, seed=42).limit(TARGET_COUNT)\n",
        "    else:\n",
        "        # If less, keep as is (OR: upsample if you want, but you didn’t ask for that here)\n",
        "        sampled_df = class_df\n",
        "\n",
        "    balanced_dfs.append(sampled_df)\n",
        "\n",
        "#Union all classes together\n",
        "downsampled_df = balanced_dfs[0]\n",
        "for df in balanced_dfs[1:]:\n",
        "    downsampled_df = downsampled_df.union(df)\n",
        "\n",
        "downsampled_df.groupBy(\"genre\").count().show()"
      ],
      "metadata": {
        "colab": {
          "base_uri": "https://localhost:8080/"
        },
        "id": "C59rHruJzJQ9",
        "outputId": "297bd599-a08d-43ba-d41b-1807602b1ae0"
      },
      "execution_count": 25,
      "outputs": [
        {
          "output_type": "stream",
          "name": "stdout",
          "text": [
            "+-------+-----+\n",
            "|  genre|count|\n",
            "+-------+-----+\n",
            "|    pop| 1000|\n",
            "|  blues| 1000|\n",
            "|country| 1000|\n",
            "|   jazz| 1000|\n",
            "|hip hop|  904|\n",
            "|   rock| 1000|\n",
            "| reggae| 1000|\n",
            "+-------+-----+\n",
            "\n"
          ]
        }
      ]
    },
    {
      "cell_type": "code",
      "source": [
        "train_df_down, test_df_down = downsampled_df.randomSplit([0.8, 0.2], seed=42)"
      ],
      "metadata": {
        "id": "iCcF5O4ZzXS5"
      },
      "execution_count": 39,
      "outputs": []
    },
    {
      "cell_type": "code",
      "source": [
        "model = pipeline.fit(train_df_down)"
      ],
      "metadata": {
        "id": "uFsEMGA_zxkK"
      },
      "execution_count": 27,
      "outputs": []
    },
    {
      "cell_type": "code",
      "source": [
        "predictions = model.transform(test_df_down)\n",
        "evaluator = MulticlassClassificationEvaluator(labelCol=\"label\", predictionCol=\"prediction\", metricName=\"accuracy\")\n",
        "accuracy = evaluator.evaluate(predictions)\n",
        "print(f\"Test set accuracy: {accuracy:.4f}\")"
      ],
      "metadata": {
        "colab": {
          "base_uri": "https://localhost:8080/"
        },
        "id": "UtmCwfdMzzPT",
        "outputId": "61f41357-157a-4566-d40e-2c212ccd4600"
      },
      "execution_count": 28,
      "outputs": [
        {
          "output_type": "stream",
          "name": "stdout",
          "text": [
            "Test set accuracy: 0.2995\n"
          ]
        }
      ]
    },
    {
      "cell_type": "code",
      "source": [
        "from pyspark.ml.classification import LogisticRegression\n",
        "\n",
        "lr_classifier = LogisticRegression(labelCol=\"label\", featuresCol=\"features\", maxIter=100, regParam=0.01)\n",
        "\n",
        "pipeline_lr = Pipeline(stages=[\n",
        "    label_indexer,\n",
        "    tokenizer,\n",
        "    stopword_remover,\n",
        "    hashing_tf,\n",
        "    idf,\n",
        "    lr_classifier\n",
        "])"
      ],
      "metadata": {
        "id": "bBz-Qfx7z1I7"
      },
      "execution_count": 29,
      "outputs": []
    },
    {
      "cell_type": "code",
      "source": [
        "model = pipeline_lr.fit(train_df)"
      ],
      "metadata": {
        "id": "ixeQ12dj1DH1"
      },
      "execution_count": 32,
      "outputs": []
    },
    {
      "cell_type": "code",
      "source": [
        "predictions = model.transform(test_df)\n",
        "evaluator = MulticlassClassificationEvaluator(labelCol=\"label\", predictionCol=\"prediction\", metricName=\"accuracy\")\n",
        "accuracy = evaluator.evaluate(predictions)\n",
        "print(f\"Test set accuracy: {accuracy:.4f}\")"
      ],
      "metadata": {
        "colab": {
          "base_uri": "https://localhost:8080/"
        },
        "id": "SrVH-psn1qkP",
        "outputId": "d01a1ba7-8b5a-4b99-d81d-a251336805b5"
      },
      "execution_count": 34,
      "outputs": [
        {
          "output_type": "stream",
          "name": "stdout",
          "text": [
            "Test set accuracy: 0.3346\n"
          ]
        }
      ]
    },
    {
      "cell_type": "code",
      "source": [
        "model = pipeline_lr.fit(train_df_bl)"
      ],
      "metadata": {
        "id": "1H5YKRWA1UQs"
      },
      "execution_count": 36,
      "outputs": []
    },
    {
      "cell_type": "code",
      "source": [
        "predictions = model.transform(test_df_bl)\n",
        "evaluator = MulticlassClassificationEvaluator(labelCol=\"label\", predictionCol=\"prediction\", metricName=\"accuracy\")\n",
        "accuracy = evaluator.evaluate(predictions)\n",
        "print(f\"Test set accuracy: {accuracy:.4f}\")"
      ],
      "metadata": {
        "colab": {
          "base_uri": "https://localhost:8080/"
        },
        "id": "lpEAMBQS1bYi",
        "outputId": "b0b58f55-3d22-4faf-9cdd-77f948028885"
      },
      "execution_count": 37,
      "outputs": [
        {
          "output_type": "stream",
          "name": "stdout",
          "text": [
            "Test set accuracy: 0.6445\n"
          ]
        }
      ]
    },
    {
      "cell_type": "code",
      "source": [
        "model = pipeline_lr.fit(train_df_down)"
      ],
      "metadata": {
        "id": "YqI81GbU17FG"
      },
      "execution_count": 40,
      "outputs": []
    },
    {
      "cell_type": "code",
      "source": [
        "predictions = model.transform(test_df_down)\n",
        "evaluator = MulticlassClassificationEvaluator(labelCol=\"label\", predictionCol=\"prediction\", metricName=\"accuracy\")\n",
        "accuracy = evaluator.evaluate(predictions)\n",
        "print(f\"Test set accuracy: {accuracy:.4f}\")"
      ],
      "metadata": {
        "colab": {
          "base_uri": "https://localhost:8080/"
        },
        "id": "Od0ILZCx1-hT",
        "outputId": "59bcd0e3-8f5a-4580-cce5-2f10a331f1a1"
      },
      "execution_count": 41,
      "outputs": [
        {
          "output_type": "stream",
          "name": "stdout",
          "text": [
            "Test set accuracy: 0.3346\n"
          ]
        }
      ]
    },
    {
      "cell_type": "markdown",
      "source": [
        "Highest accuracy is given by the logistic regression model trained on the upsampled mendely dataset."
      ],
      "metadata": {
        "id": "qX2xptvB3Luh"
      }
    },
    {
      "cell_type": "code",
      "source": [
        "lr_model = pipeline_lr.fit(train_df_bl)"
      ],
      "metadata": {
        "id": "NDsCkkV32BjP"
      },
      "execution_count": 42,
      "outputs": []
    },
    {
      "cell_type": "code",
      "source": [
        "lr_model.save(\"lr_model_music_genre\")"
      ],
      "metadata": {
        "id": "vxL5ehvB3Xi3"
      },
      "execution_count": 52,
      "outputs": []
    },
    {
      "cell_type": "code",
      "source": [
        "save_path = \"/content/drive/My Drive/pyspark_models/lr_model_music_genre\"\n",
        "lr_model.write().overwrite().save(save_path)"
      ],
      "metadata": {
        "id": "Ph7Wn9fJ3lkF"
      },
      "execution_count": 43,
      "outputs": []
    },
    {
      "cell_type": "code",
      "source": [
        "!zip -r /content/drive/My\\ Drive/pyspark_models/lr_model_music_genre.zip /content/drive/My\\ Drive/pyspark_models/lr_model_music_genre"
      ],
      "metadata": {
        "colab": {
          "base_uri": "https://localhost:8080/"
        },
        "collapsed": true,
        "id": "aneUCmhp3wFj",
        "outputId": "7030baee-f652-4e96-b18a-9cebbd23dd7a"
      },
      "execution_count": 46,
      "outputs": [
        {
          "output_type": "stream",
          "name": "stdout",
          "text": [
            "  adding: content/drive/My Drive/pyspark_models/lr_model_music_genre/ (stored 0%)\n",
            "  adding: content/drive/My Drive/pyspark_models/lr_model_music_genre/metadata/ (stored 0%)\n",
            "  adding: content/drive/My Drive/pyspark_models/lr_model_music_genre/metadata/part-00000 (deflated 25%)\n",
            "  adding: content/drive/My Drive/pyspark_models/lr_model_music_genre/metadata/.part-00000.crc (stored 0%)\n",
            "  adding: content/drive/My Drive/pyspark_models/lr_model_music_genre/metadata/_SUCCESS (stored 0%)\n",
            "  adding: content/drive/My Drive/pyspark_models/lr_model_music_genre/metadata/._SUCCESS.crc (stored 0%)\n",
            "  adding: content/drive/My Drive/pyspark_models/lr_model_music_genre/stages/ (stored 0%)\n",
            "  adding: content/drive/My Drive/pyspark_models/lr_model_music_genre/stages/0_StringIndexer_717b58ae37aa/ (stored 0%)\n",
            "  adding: content/drive/My Drive/pyspark_models/lr_model_music_genre/stages/0_StringIndexer_717b58ae37aa/metadata/ (stored 0%)\n",
            "  adding: content/drive/My Drive/pyspark_models/lr_model_music_genre/stages/0_StringIndexer_717b58ae37aa/metadata/part-00000 (deflated 35%)\n",
            "  adding: content/drive/My Drive/pyspark_models/lr_model_music_genre/stages/0_StringIndexer_717b58ae37aa/metadata/.part-00000.crc (stored 0%)\n",
            "  adding: content/drive/My Drive/pyspark_models/lr_model_music_genre/stages/0_StringIndexer_717b58ae37aa/metadata/_SUCCESS (stored 0%)\n",
            "  adding: content/drive/My Drive/pyspark_models/lr_model_music_genre/stages/0_StringIndexer_717b58ae37aa/metadata/._SUCCESS.crc (stored 0%)\n",
            "  adding: content/drive/My Drive/pyspark_models/lr_model_music_genre/stages/0_StringIndexer_717b58ae37aa/data/ (stored 0%)\n",
            "  adding: content/drive/My Drive/pyspark_models/lr_model_music_genre/stages/0_StringIndexer_717b58ae37aa/data/part-00000-188a10d5-1cea-4183-83e4-5e45a8b48535-c000.snappy.parquet (deflated 34%)\n",
            "  adding: content/drive/My Drive/pyspark_models/lr_model_music_genre/stages/0_StringIndexer_717b58ae37aa/data/.part-00000-188a10d5-1cea-4183-83e4-5e45a8b48535-c000.snappy.parquet.crc (stored 0%)\n",
            "  adding: content/drive/My Drive/pyspark_models/lr_model_music_genre/stages/0_StringIndexer_717b58ae37aa/data/_SUCCESS (stored 0%)\n",
            "  adding: content/drive/My Drive/pyspark_models/lr_model_music_genre/stages/0_StringIndexer_717b58ae37aa/data/._SUCCESS.crc (stored 0%)\n",
            "  adding: content/drive/My Drive/pyspark_models/lr_model_music_genre/stages/1_Tokenizer_7e7b92af23e5/ (stored 0%)\n",
            "  adding: content/drive/My Drive/pyspark_models/lr_model_music_genre/stages/1_Tokenizer_7e7b92af23e5/metadata/ (stored 0%)\n",
            "  adding: content/drive/My Drive/pyspark_models/lr_model_music_genre/stages/1_Tokenizer_7e7b92af23e5/metadata/part-00000 (deflated 34%)\n",
            "  adding: content/drive/My Drive/pyspark_models/lr_model_music_genre/stages/1_Tokenizer_7e7b92af23e5/metadata/.part-00000.crc (stored 0%)\n",
            "  adding: content/drive/My Drive/pyspark_models/lr_model_music_genre/stages/1_Tokenizer_7e7b92af23e5/metadata/_SUCCESS (stored 0%)\n",
            "  adding: content/drive/My Drive/pyspark_models/lr_model_music_genre/stages/1_Tokenizer_7e7b92af23e5/metadata/._SUCCESS.crc (stored 0%)\n",
            "  adding: content/drive/My Drive/pyspark_models/lr_model_music_genre/stages/2_StopWordsRemover_c697dfb35d54/ (stored 0%)\n",
            "  adding: content/drive/My Drive/pyspark_models/lr_model_music_genre/stages/2_StopWordsRemover_c697dfb35d54/metadata/ (stored 0%)\n",
            "  adding: content/drive/My Drive/pyspark_models/lr_model_music_genre/stages/2_StopWordsRemover_c697dfb35d54/metadata/part-00000 (deflated 58%)\n",
            "  adding: content/drive/My Drive/pyspark_models/lr_model_music_genre/stages/2_StopWordsRemover_c697dfb35d54/metadata/.part-00000.crc (stored 0%)\n",
            "  adding: content/drive/My Drive/pyspark_models/lr_model_music_genre/stages/2_StopWordsRemover_c697dfb35d54/metadata/_SUCCESS (stored 0%)\n",
            "  adding: content/drive/My Drive/pyspark_models/lr_model_music_genre/stages/2_StopWordsRemover_c697dfb35d54/metadata/._SUCCESS.crc (stored 0%)\n",
            "  adding: content/drive/My Drive/pyspark_models/lr_model_music_genre/stages/3_HashingTF_b218933c76b5/ (stored 0%)\n",
            "  adding: content/drive/My Drive/pyspark_models/lr_model_music_genre/stages/3_HashingTF_b218933c76b5/metadata/ (stored 0%)\n",
            "  adding: content/drive/My Drive/pyspark_models/lr_model_music_genre/stages/3_HashingTF_b218933c76b5/metadata/part-00000 (deflated 36%)\n",
            "  adding: content/drive/My Drive/pyspark_models/lr_model_music_genre/stages/3_HashingTF_b218933c76b5/metadata/.part-00000.crc (stored 0%)\n",
            "  adding: content/drive/My Drive/pyspark_models/lr_model_music_genre/stages/3_HashingTF_b218933c76b5/metadata/_SUCCESS (stored 0%)\n",
            "  adding: content/drive/My Drive/pyspark_models/lr_model_music_genre/stages/3_HashingTF_b218933c76b5/metadata/._SUCCESS.crc (stored 0%)\n",
            "  adding: content/drive/My Drive/pyspark_models/lr_model_music_genre/stages/4_IDF_d08d4179f49f/ (stored 0%)\n",
            "  adding: content/drive/My Drive/pyspark_models/lr_model_music_genre/stages/4_IDF_d08d4179f49f/metadata/ (stored 0%)\n",
            "  adding: content/drive/My Drive/pyspark_models/lr_model_music_genre/stages/4_IDF_d08d4179f49f/metadata/part-00000 (deflated 32%)\n",
            "  adding: content/drive/My Drive/pyspark_models/lr_model_music_genre/stages/4_IDF_d08d4179f49f/metadata/.part-00000.crc (stored 0%)\n",
            "  adding: content/drive/My Drive/pyspark_models/lr_model_music_genre/stages/4_IDF_d08d4179f49f/metadata/_SUCCESS (stored 0%)\n",
            "  adding: content/drive/My Drive/pyspark_models/lr_model_music_genre/stages/4_IDF_d08d4179f49f/metadata/._SUCCESS.crc (stored 0%)\n",
            "  adding: content/drive/My Drive/pyspark_models/lr_model_music_genre/stages/4_IDF_d08d4179f49f/data/ (stored 0%)\n",
            "  adding: content/drive/My Drive/pyspark_models/lr_model_music_genre/stages/4_IDF_d08d4179f49f/data/part-00000-7a2c21b0-4cf9-4e3b-8940-21e38b5915b8-c000.snappy.parquet (deflated 41%)\n",
            "  adding: content/drive/My Drive/pyspark_models/lr_model_music_genre/stages/4_IDF_d08d4179f49f/data/.part-00000-7a2c21b0-4cf9-4e3b-8940-21e38b5915b8-c000.snappy.parquet.crc (stored 0%)\n",
            "  adding: content/drive/My Drive/pyspark_models/lr_model_music_genre/stages/4_IDF_d08d4179f49f/data/_SUCCESS (stored 0%)\n",
            "  adding: content/drive/My Drive/pyspark_models/lr_model_music_genre/stages/4_IDF_d08d4179f49f/data/._SUCCESS.crc (stored 0%)\n",
            "  adding: content/drive/My Drive/pyspark_models/lr_model_music_genre/stages/5_LogisticRegression_2b95ca3bc6d1/ (stored 0%)\n",
            "  adding: content/drive/My Drive/pyspark_models/lr_model_music_genre/stages/5_LogisticRegression_2b95ca3bc6d1/metadata/ (stored 0%)\n",
            "  adding: content/drive/My Drive/pyspark_models/lr_model_music_genre/stages/5_LogisticRegression_2b95ca3bc6d1/metadata/part-00000 (deflated 46%)\n",
            "  adding: content/drive/My Drive/pyspark_models/lr_model_music_genre/stages/5_LogisticRegression_2b95ca3bc6d1/metadata/.part-00000.crc (stored 0%)\n",
            "  adding: content/drive/My Drive/pyspark_models/lr_model_music_genre/stages/5_LogisticRegression_2b95ca3bc6d1/metadata/_SUCCESS (stored 0%)\n",
            "  adding: content/drive/My Drive/pyspark_models/lr_model_music_genre/stages/5_LogisticRegression_2b95ca3bc6d1/metadata/._SUCCESS.crc (stored 0%)\n",
            "  adding: content/drive/My Drive/pyspark_models/lr_model_music_genre/stages/5_LogisticRegression_2b95ca3bc6d1/data/ (stored 0%)\n",
            "  adding: content/drive/My Drive/pyspark_models/lr_model_music_genre/stages/5_LogisticRegression_2b95ca3bc6d1/data/part-00000-e5ebc412-a12d-4c54-8b80-2bae79cc4328-c000.snappy.parquet (deflated 5%)\n",
            "  adding: content/drive/My Drive/pyspark_models/lr_model_music_genre/stages/5_LogisticRegression_2b95ca3bc6d1/data/.part-00000-e5ebc412-a12d-4c54-8b80-2bae79cc4328-c000.snappy.parquet.crc (stored 0%)\n",
            "  adding: content/drive/My Drive/pyspark_models/lr_model_music_genre/stages/5_LogisticRegression_2b95ca3bc6d1/data/_SUCCESS (stored 0%)\n",
            "  adding: content/drive/My Drive/pyspark_models/lr_model_music_genre/stages/5_LogisticRegression_2b95ca3bc6d1/data/._SUCCESS.crc (stored 0%)\n"
          ]
        }
      ]
    },
    {
      "cell_type": "code",
      "source": [
        "labels = label_indexer.fit(balanced_df).labels\n",
        "with open('label_mapping.txt', 'w') as f:\n",
        "    for label in labels:\n",
        "        f.write(label + '\\n')"
      ],
      "metadata": {
        "id": "lyDbumUAAXm8"
      },
      "execution_count": 51,
      "outputs": []
    },
    {
      "cell_type": "code",
      "source": [
        "lr_model.save('lr_model_new')\n"
      ],
      "metadata": {
        "id": "wFI9JgzBCLhm"
      },
      "execution_count": 56,
      "outputs": []
    },
    {
      "cell_type": "markdown",
      "source": [
        "# Dataset"
      ],
      "metadata": {
        "id": "WvyOiicj4V-A"
      }
    },
    {
      "cell_type": "code",
      "source": [
        "import pandas as pd\n",
        "\n",
        "mendely = pd.read_csv(\"/content/drive/MyDrive/tcc_ceds_music.csv\")\n",
        "student = pd.read_csv(\"/content/Student_dataset_clean_fixed (2).csv\")"
      ],
      "metadata": {
        "id": "iqDFPAGhGHlW"
      },
      "execution_count": 64,
      "outputs": []
    },
    {
      "cell_type": "code",
      "source": [
        "merged = pd.concat([student, mendely], ignore_index=True)\n",
        "\n",
        "# Show the first few rows of the merged DataFrame\n",
        "print(merged.head())\n",
        "\n",
        "# Save the merged DataFrame as a CSV file\n",
        "merged.to_csv(\"merged_music_data.csv\", index=False)"
      ],
      "metadata": {
        "colab": {
          "base_uri": "https://localhost:8080/"
        },
        "id": "PnYKEULOGhAg",
        "outputId": "2d172490-24c4-4a55-9660-ace2f6acafe3"
      },
      "execution_count": 66,
      "outputs": [
        {
          "output_type": "stream",
          "name": "stdout",
          "text": [
            "       artist_name                        track_name  release_date genre  \\\n",
            "0         Al Green               Let's Stay Together          1972  Soul   \n",
            "1      Marvin Gaye                   What's Going On          1971  Soul   \n",
            "2  Aretha Franklin                           Respect          1967  Soul   \n",
            "3     Otis Redding  (Sittin' On) The Dock of the Bay          1968  Soul   \n",
            "4     Bill Withers                 Ain't No Sunshine          1971  Soul   \n",
            "\n",
            "                                              lyrics  Unnamed: 0  len  dating  \\\n",
            "0  I, I'm so in love with you Whatever you want t...         NaN  NaN     NaN   \n",
            "1  Mother, mother There's too many of you crying ...         NaN  NaN     NaN   \n",
            "2  What you want Baby, I got it What you need Do ...         NaN  NaN     NaN   \n",
            "3  Sittin' in the mornin' sun I'll be sittin' whe...         NaN  NaN     NaN   \n",
            "4  Ain't no sunshine when she's gone. It's not wa...         NaN  NaN     NaN   \n",
            "\n",
            "   violence  world/life  ...  sadness  feelings  danceability  loudness  \\\n",
            "0       NaN         NaN  ...      NaN       NaN           NaN       NaN   \n",
            "1       NaN         NaN  ...      NaN       NaN           NaN       NaN   \n",
            "2       NaN         NaN  ...      NaN       NaN           NaN       NaN   \n",
            "3       NaN         NaN  ...      NaN       NaN           NaN       NaN   \n",
            "4       NaN         NaN  ...      NaN       NaN           NaN       NaN   \n",
            "\n",
            "   acousticness  instrumentalness  valence  energy  topic  age  \n",
            "0           NaN               NaN      NaN     NaN    NaN  NaN  \n",
            "1           NaN               NaN      NaN     NaN    NaN  NaN  \n",
            "2           NaN               NaN      NaN     NaN    NaN  NaN  \n",
            "3           NaN               NaN      NaN     NaN    NaN  NaN  \n",
            "4           NaN               NaN      NaN     NaN    NaN  NaN  \n",
            "\n",
            "[5 rows x 31 columns]\n"
          ]
        }
      ]
    },
    {
      "cell_type": "code",
      "source": [
        "columns = ['Unnamed: 0', 'len', 'dating', 'violence', 'world/life', 'night/time',\n",
        "       'shake the audience', 'family/gospel', 'romantic', 'communication',\n",
        "       'obscene', 'music', 'movement/places', 'light/visual perceptions',\n",
        "       'family/spiritual', 'like/girls', 'sadness', 'feelings', 'danceability',\n",
        "       'loudness', 'acousticness', 'instrumentalness', 'valence', 'energy',\n",
        "       'topic', 'age']"
      ],
      "metadata": {
        "id": "Xry90dJPG2PL"
      },
      "execution_count": 69,
      "outputs": []
    },
    {
      "cell_type": "code",
      "source": [
        "merged.drop(columns=columns, inplace=True)"
      ],
      "metadata": {
        "id": "1S06y6g_G8iN"
      },
      "execution_count": 70,
      "outputs": []
    },
    {
      "cell_type": "code",
      "source": [
        "merged.head()"
      ],
      "metadata": {
        "colab": {
          "base_uri": "https://localhost:8080/",
          "height": 206
        },
        "id": "okfhWKQdHRqY",
        "outputId": "968f9e18-227f-4298-cdae-1a5d48856864"
      },
      "execution_count": 71,
      "outputs": [
        {
          "output_type": "execute_result",
          "data": {
            "text/plain": [
              "       artist_name                        track_name  release_date genre  \\\n",
              "0         Al Green               Let's Stay Together          1972  Soul   \n",
              "1      Marvin Gaye                   What's Going On          1971  Soul   \n",
              "2  Aretha Franklin                           Respect          1967  Soul   \n",
              "3     Otis Redding  (Sittin' On) The Dock of the Bay          1968  Soul   \n",
              "4     Bill Withers                 Ain't No Sunshine          1971  Soul   \n",
              "\n",
              "                                              lyrics  \n",
              "0  I, I'm so in love with you Whatever you want t...  \n",
              "1  Mother, mother There's too many of you crying ...  \n",
              "2  What you want Baby, I got it What you need Do ...  \n",
              "3  Sittin' in the mornin' sun I'll be sittin' whe...  \n",
              "4  Ain't no sunshine when she's gone. It's not wa...  "
            ],
            "text/html": [
              "\n",
              "  <div id=\"df-7535e7e4-289c-42c3-b9c8-186e5a8deeb2\" class=\"colab-df-container\">\n",
              "    <div>\n",
              "<style scoped>\n",
              "    .dataframe tbody tr th:only-of-type {\n",
              "        vertical-align: middle;\n",
              "    }\n",
              "\n",
              "    .dataframe tbody tr th {\n",
              "        vertical-align: top;\n",
              "    }\n",
              "\n",
              "    .dataframe thead th {\n",
              "        text-align: right;\n",
              "    }\n",
              "</style>\n",
              "<table border=\"1\" class=\"dataframe\">\n",
              "  <thead>\n",
              "    <tr style=\"text-align: right;\">\n",
              "      <th></th>\n",
              "      <th>artist_name</th>\n",
              "      <th>track_name</th>\n",
              "      <th>release_date</th>\n",
              "      <th>genre</th>\n",
              "      <th>lyrics</th>\n",
              "    </tr>\n",
              "  </thead>\n",
              "  <tbody>\n",
              "    <tr>\n",
              "      <th>0</th>\n",
              "      <td>Al Green</td>\n",
              "      <td>Let's Stay Together</td>\n",
              "      <td>1972</td>\n",
              "      <td>Soul</td>\n",
              "      <td>I, I'm so in love with you Whatever you want t...</td>\n",
              "    </tr>\n",
              "    <tr>\n",
              "      <th>1</th>\n",
              "      <td>Marvin Gaye</td>\n",
              "      <td>What's Going On</td>\n",
              "      <td>1971</td>\n",
              "      <td>Soul</td>\n",
              "      <td>Mother, mother There's too many of you crying ...</td>\n",
              "    </tr>\n",
              "    <tr>\n",
              "      <th>2</th>\n",
              "      <td>Aretha Franklin</td>\n",
              "      <td>Respect</td>\n",
              "      <td>1967</td>\n",
              "      <td>Soul</td>\n",
              "      <td>What you want Baby, I got it What you need Do ...</td>\n",
              "    </tr>\n",
              "    <tr>\n",
              "      <th>3</th>\n",
              "      <td>Otis Redding</td>\n",
              "      <td>(Sittin' On) The Dock of the Bay</td>\n",
              "      <td>1968</td>\n",
              "      <td>Soul</td>\n",
              "      <td>Sittin' in the mornin' sun I'll be sittin' whe...</td>\n",
              "    </tr>\n",
              "    <tr>\n",
              "      <th>4</th>\n",
              "      <td>Bill Withers</td>\n",
              "      <td>Ain't No Sunshine</td>\n",
              "      <td>1971</td>\n",
              "      <td>Soul</td>\n",
              "      <td>Ain't no sunshine when she's gone. It's not wa...</td>\n",
              "    </tr>\n",
              "  </tbody>\n",
              "</table>\n",
              "</div>\n",
              "    <div class=\"colab-df-buttons\">\n",
              "\n",
              "  <div class=\"colab-df-container\">\n",
              "    <button class=\"colab-df-convert\" onclick=\"convertToInteractive('df-7535e7e4-289c-42c3-b9c8-186e5a8deeb2')\"\n",
              "            title=\"Convert this dataframe to an interactive table.\"\n",
              "            style=\"display:none;\">\n",
              "\n",
              "  <svg xmlns=\"http://www.w3.org/2000/svg\" height=\"24px\" viewBox=\"0 -960 960 960\">\n",
              "    <path d=\"M120-120v-720h720v720H120Zm60-500h600v-160H180v160Zm220 220h160v-160H400v160Zm0 220h160v-160H400v160ZM180-400h160v-160H180v160Zm440 0h160v-160H620v160ZM180-180h160v-160H180v160Zm440 0h160v-160H620v160Z\"/>\n",
              "  </svg>\n",
              "    </button>\n",
              "\n",
              "  <style>\n",
              "    .colab-df-container {\n",
              "      display:flex;\n",
              "      gap: 12px;\n",
              "    }\n",
              "\n",
              "    .colab-df-convert {\n",
              "      background-color: #E8F0FE;\n",
              "      border: none;\n",
              "      border-radius: 50%;\n",
              "      cursor: pointer;\n",
              "      display: none;\n",
              "      fill: #1967D2;\n",
              "      height: 32px;\n",
              "      padding: 0 0 0 0;\n",
              "      width: 32px;\n",
              "    }\n",
              "\n",
              "    .colab-df-convert:hover {\n",
              "      background-color: #E2EBFA;\n",
              "      box-shadow: 0px 1px 2px rgba(60, 64, 67, 0.3), 0px 1px 3px 1px rgba(60, 64, 67, 0.15);\n",
              "      fill: #174EA6;\n",
              "    }\n",
              "\n",
              "    .colab-df-buttons div {\n",
              "      margin-bottom: 4px;\n",
              "    }\n",
              "\n",
              "    [theme=dark] .colab-df-convert {\n",
              "      background-color: #3B4455;\n",
              "      fill: #D2E3FC;\n",
              "    }\n",
              "\n",
              "    [theme=dark] .colab-df-convert:hover {\n",
              "      background-color: #434B5C;\n",
              "      box-shadow: 0px 1px 3px 1px rgba(0, 0, 0, 0.15);\n",
              "      filter: drop-shadow(0px 1px 2px rgba(0, 0, 0, 0.3));\n",
              "      fill: #FFFFFF;\n",
              "    }\n",
              "  </style>\n",
              "\n",
              "    <script>\n",
              "      const buttonEl =\n",
              "        document.querySelector('#df-7535e7e4-289c-42c3-b9c8-186e5a8deeb2 button.colab-df-convert');\n",
              "      buttonEl.style.display =\n",
              "        google.colab.kernel.accessAllowed ? 'block' : 'none';\n",
              "\n",
              "      async function convertToInteractive(key) {\n",
              "        const element = document.querySelector('#df-7535e7e4-289c-42c3-b9c8-186e5a8deeb2');\n",
              "        const dataTable =\n",
              "          await google.colab.kernel.invokeFunction('convertToInteractive',\n",
              "                                                    [key], {});\n",
              "        if (!dataTable) return;\n",
              "\n",
              "        const docLinkHtml = 'Like what you see? Visit the ' +\n",
              "          '<a target=\"_blank\" href=https://colab.research.google.com/notebooks/data_table.ipynb>data table notebook</a>'\n",
              "          + ' to learn more about interactive tables.';\n",
              "        element.innerHTML = '';\n",
              "        dataTable['output_type'] = 'display_data';\n",
              "        await google.colab.output.renderOutput(dataTable, element);\n",
              "        const docLink = document.createElement('div');\n",
              "        docLink.innerHTML = docLinkHtml;\n",
              "        element.appendChild(docLink);\n",
              "      }\n",
              "    </script>\n",
              "  </div>\n",
              "\n",
              "\n",
              "    <div id=\"df-8b0f2c98-927e-4c5e-8ee3-7256c2d982a0\">\n",
              "      <button class=\"colab-df-quickchart\" onclick=\"quickchart('df-8b0f2c98-927e-4c5e-8ee3-7256c2d982a0')\"\n",
              "                title=\"Suggest charts\"\n",
              "                style=\"display:none;\">\n",
              "\n",
              "<svg xmlns=\"http://www.w3.org/2000/svg\" height=\"24px\"viewBox=\"0 0 24 24\"\n",
              "     width=\"24px\">\n",
              "    <g>\n",
              "        <path d=\"M19 3H5c-1.1 0-2 .9-2 2v14c0 1.1.9 2 2 2h14c1.1 0 2-.9 2-2V5c0-1.1-.9-2-2-2zM9 17H7v-7h2v7zm4 0h-2V7h2v10zm4 0h-2v-4h2v4z\"/>\n",
              "    </g>\n",
              "</svg>\n",
              "      </button>\n",
              "\n",
              "<style>\n",
              "  .colab-df-quickchart {\n",
              "      --bg-color: #E8F0FE;\n",
              "      --fill-color: #1967D2;\n",
              "      --hover-bg-color: #E2EBFA;\n",
              "      --hover-fill-color: #174EA6;\n",
              "      --disabled-fill-color: #AAA;\n",
              "      --disabled-bg-color: #DDD;\n",
              "  }\n",
              "\n",
              "  [theme=dark] .colab-df-quickchart {\n",
              "      --bg-color: #3B4455;\n",
              "      --fill-color: #D2E3FC;\n",
              "      --hover-bg-color: #434B5C;\n",
              "      --hover-fill-color: #FFFFFF;\n",
              "      --disabled-bg-color: #3B4455;\n",
              "      --disabled-fill-color: #666;\n",
              "  }\n",
              "\n",
              "  .colab-df-quickchart {\n",
              "    background-color: var(--bg-color);\n",
              "    border: none;\n",
              "    border-radius: 50%;\n",
              "    cursor: pointer;\n",
              "    display: none;\n",
              "    fill: var(--fill-color);\n",
              "    height: 32px;\n",
              "    padding: 0;\n",
              "    width: 32px;\n",
              "  }\n",
              "\n",
              "  .colab-df-quickchart:hover {\n",
              "    background-color: var(--hover-bg-color);\n",
              "    box-shadow: 0 1px 2px rgba(60, 64, 67, 0.3), 0 1px 3px 1px rgba(60, 64, 67, 0.15);\n",
              "    fill: var(--button-hover-fill-color);\n",
              "  }\n",
              "\n",
              "  .colab-df-quickchart-complete:disabled,\n",
              "  .colab-df-quickchart-complete:disabled:hover {\n",
              "    background-color: var(--disabled-bg-color);\n",
              "    fill: var(--disabled-fill-color);\n",
              "    box-shadow: none;\n",
              "  }\n",
              "\n",
              "  .colab-df-spinner {\n",
              "    border: 2px solid var(--fill-color);\n",
              "    border-color: transparent;\n",
              "    border-bottom-color: var(--fill-color);\n",
              "    animation:\n",
              "      spin 1s steps(1) infinite;\n",
              "  }\n",
              "\n",
              "  @keyframes spin {\n",
              "    0% {\n",
              "      border-color: transparent;\n",
              "      border-bottom-color: var(--fill-color);\n",
              "      border-left-color: var(--fill-color);\n",
              "    }\n",
              "    20% {\n",
              "      border-color: transparent;\n",
              "      border-left-color: var(--fill-color);\n",
              "      border-top-color: var(--fill-color);\n",
              "    }\n",
              "    30% {\n",
              "      border-color: transparent;\n",
              "      border-left-color: var(--fill-color);\n",
              "      border-top-color: var(--fill-color);\n",
              "      border-right-color: var(--fill-color);\n",
              "    }\n",
              "    40% {\n",
              "      border-color: transparent;\n",
              "      border-right-color: var(--fill-color);\n",
              "      border-top-color: var(--fill-color);\n",
              "    }\n",
              "    60% {\n",
              "      border-color: transparent;\n",
              "      border-right-color: var(--fill-color);\n",
              "    }\n",
              "    80% {\n",
              "      border-color: transparent;\n",
              "      border-right-color: var(--fill-color);\n",
              "      border-bottom-color: var(--fill-color);\n",
              "    }\n",
              "    90% {\n",
              "      border-color: transparent;\n",
              "      border-bottom-color: var(--fill-color);\n",
              "    }\n",
              "  }\n",
              "</style>\n",
              "\n",
              "      <script>\n",
              "        async function quickchart(key) {\n",
              "          const quickchartButtonEl =\n",
              "            document.querySelector('#' + key + ' button');\n",
              "          quickchartButtonEl.disabled = true;  // To prevent multiple clicks.\n",
              "          quickchartButtonEl.classList.add('colab-df-spinner');\n",
              "          try {\n",
              "            const charts = await google.colab.kernel.invokeFunction(\n",
              "                'suggestCharts', [key], {});\n",
              "          } catch (error) {\n",
              "            console.error('Error during call to suggestCharts:', error);\n",
              "          }\n",
              "          quickchartButtonEl.classList.remove('colab-df-spinner');\n",
              "          quickchartButtonEl.classList.add('colab-df-quickchart-complete');\n",
              "        }\n",
              "        (() => {\n",
              "          let quickchartButtonEl =\n",
              "            document.querySelector('#df-8b0f2c98-927e-4c5e-8ee3-7256c2d982a0 button');\n",
              "          quickchartButtonEl.style.display =\n",
              "            google.colab.kernel.accessAllowed ? 'block' : 'none';\n",
              "        })();\n",
              "      </script>\n",
              "    </div>\n",
              "\n",
              "    </div>\n",
              "  </div>\n"
            ],
            "application/vnd.google.colaboratory.intrinsic+json": {
              "type": "dataframe",
              "variable_name": "merged",
              "summary": "{\n  \"name\": \"merged\",\n  \"rows\": 28472,\n  \"fields\": [\n    {\n      \"column\": \"artist_name\",\n      \"properties\": {\n        \"dtype\": \"category\",\n        \"num_unique_values\": 5511,\n        \"samples\": [\n          \"will.i.am\",\n          \"robbie williams\",\n          \"billy joel\"\n        ],\n        \"semantic_type\": \"\",\n        \"description\": \"\"\n      }\n    },\n    {\n      \"column\": \"track_name\",\n      \"properties\": {\n        \"dtype\": \"string\",\n        \"num_unique_values\": 23789,\n        \"samples\": [\n          \"my love's leavin' (feat. michael mcdonald)\",\n          \"it's not love\",\n          \"dare\"\n        ],\n        \"semantic_type\": \"\",\n        \"description\": \"\"\n      }\n    },\n    {\n      \"column\": \"release_date\",\n      \"properties\": {\n        \"dtype\": \"number\",\n        \"std\": 18,\n        \"min\": 1950,\n        \"max\": 2019,\n        \"num_unique_values\": 70,\n        \"samples\": [\n          1995,\n          1972,\n          1960\n        ],\n        \"semantic_type\": \"\",\n        \"description\": \"\"\n      }\n    },\n    {\n      \"column\": \"genre\",\n      \"properties\": {\n        \"dtype\": \"category\",\n        \"num_unique_values\": 8,\n        \"samples\": [\n          \"pop\",\n          \"reggae\",\n          \"Soul\"\n        ],\n        \"semantic_type\": \"\",\n        \"description\": \"\"\n      }\n    },\n    {\n      \"column\": \"lyrics\",\n      \"properties\": {\n        \"dtype\": \"string\",\n        \"num_unique_values\": 28472,\n        \"samples\": [\n          \"star truth like star sunlight blind feel eclipse energy shift wind brisk push begin word bear fist absorb land flesh tear death wish gotta violent communicate gotta mobilize motivate death dishonor envy betrayal stronger nail coffin better problems sayin heavens gate callin death dodge alive think better option round spiritual base look mirror proud face real image know fake mean scenes view outtakes live time raise hell live time lyric commercial\",\n          \"orchid bloom tenderly thrill fairest lady land place blush compare understand overlook orchid search orchid overlook search prove untrue orchid dear lose color orchid stay face lonely years orchid search bitter tear overlook orchid search orchid overlook search prove untrue orchid dear orchid dear\",\n          \"idea idea everybody miserable superman live flow like mystic river girl dont like kiss rhyme right kisser anybody disap peared hide freeway beard jump skin gush nail face push hellraiser face pincushion like squish sucker like vicegrip slaughterhouse cause style butcher spin chainsaw like blades brain hyperdrive brake smidgen admit digits fidget ribbit ribbit slippin swag juice swag juice slippin swag juice swag juice figure nigga mind money right stop get hindsight leave live probably wouldn get press women wouldn ones diggin annihilate look talk alot hood williams like talk girl talkin pregrent crazy later crush leave baby trust shit specialize massage testicles trust date basically mouth rim turn kiss bitch straight concern taste think slip swag juice think slip swag juice slip swag juice think slip swag juice house simmer sister bind dizzy cause get busy baby throw frizbee blizzard catch teeth wizard stand disco disco biscuit pretty sure bisquick baby forget bring lipstick want kiss fore blow bitch smithe reens guillotine situ ation critical spin turntables cut record like scissor cheka chicka checka chicka chekacheka chicka wreck second tell heck sicker minute drop necklace liquor baby little breakfast clock morning want dessert\"\n        ],\n        \"semantic_type\": \"\",\n        \"description\": \"\"\n      }\n    }\n  ]\n}"
            }
          },
          "metadata": {},
          "execution_count": 71
        }
      ]
    },
    {
      "cell_type": "code",
      "source": [
        "merged.isnull().sum()"
      ],
      "metadata": {
        "colab": {
          "base_uri": "https://localhost:8080/",
          "height": 240
        },
        "id": "3eznZb9THS8O",
        "outputId": "3a849be1-6494-4f07-99c7-bb162093cf96"
      },
      "execution_count": 72,
      "outputs": [
        {
          "output_type": "execute_result",
          "data": {
            "text/plain": [
              "artist_name     0\n",
              "track_name      0\n",
              "release_date    0\n",
              "genre           0\n",
              "lyrics          0\n",
              "dtype: int64"
            ],
            "text/html": [
              "<div>\n",
              "<style scoped>\n",
              "    .dataframe tbody tr th:only-of-type {\n",
              "        vertical-align: middle;\n",
              "    }\n",
              "\n",
              "    .dataframe tbody tr th {\n",
              "        vertical-align: top;\n",
              "    }\n",
              "\n",
              "    .dataframe thead th {\n",
              "        text-align: right;\n",
              "    }\n",
              "</style>\n",
              "<table border=\"1\" class=\"dataframe\">\n",
              "  <thead>\n",
              "    <tr style=\"text-align: right;\">\n",
              "      <th></th>\n",
              "      <th>0</th>\n",
              "    </tr>\n",
              "  </thead>\n",
              "  <tbody>\n",
              "    <tr>\n",
              "      <th>artist_name</th>\n",
              "      <td>0</td>\n",
              "    </tr>\n",
              "    <tr>\n",
              "      <th>track_name</th>\n",
              "      <td>0</td>\n",
              "    </tr>\n",
              "    <tr>\n",
              "      <th>release_date</th>\n",
              "      <td>0</td>\n",
              "    </tr>\n",
              "    <tr>\n",
              "      <th>genre</th>\n",
              "      <td>0</td>\n",
              "    </tr>\n",
              "    <tr>\n",
              "      <th>lyrics</th>\n",
              "      <td>0</td>\n",
              "    </tr>\n",
              "  </tbody>\n",
              "</table>\n",
              "</div><br><label><b>dtype:</b> int64</label>"
            ]
          },
          "metadata": {},
          "execution_count": 72
        }
      ]
    },
    {
      "cell_type": "code",
      "source": [
        "merged.to_csv(\"merged_music_data1.csv\", index=False)"
      ],
      "metadata": {
        "id": "AFytN67SHWHo"
      },
      "execution_count": 74,
      "outputs": []
    },
    {
      "cell_type": "code",
      "source": [
        "# Save the merged DataFrame to a specific folder in Google Drive\n",
        "file_path = \"/content/drive/My Drive/merged_music_data1.csv\"\n",
        "merged.to_csv(file_path, index=False)\n",
        "\n",
        "print(\"File saved to Google Drive:\", file_path)\n"
      ],
      "metadata": {
        "colab": {
          "base_uri": "https://localhost:8080/"
        },
        "id": "u_WgqW6zHZfb",
        "outputId": "f1f7a51d-04d6-4379-e041-f33f210de692"
      },
      "execution_count": 75,
      "outputs": [
        {
          "output_type": "stream",
          "name": "stdout",
          "text": [
            "File saved to Google Drive: /content/drive/My Drive/merged_music_data1.csv\n"
          ]
        }
      ]
    },
    {
      "cell_type": "markdown",
      "source": [
        "# Classification for merged dataset"
      ],
      "metadata": {
        "id": "RGpTII-vIBjq"
      }
    },
    {
      "cell_type": "code",
      "source": [
        "merged_df = spark.read.csv(\"/content/drive/MyDrive/merged_music_data1.csv\", header=True, inferSchema=True)"
      ],
      "metadata": {
        "id": "TdBj3_8lIWM7"
      },
      "execution_count": 76,
      "outputs": []
    },
    {
      "cell_type": "code",
      "source": [
        "from pyspark.sql.functions import col,isnan, when, count\n",
        "df2 = merged_df.select([count(when(col(c).contains('None') | \\\n",
        "                            col(c).contains('NULL') | \\\n",
        "                            (col(c) == '' ) | \\\n",
        "                            col(c).isNull() | \\\n",
        "                            isnan(c), c\n",
        "                           )).alias(c)\n",
        "                    for c in merged_df.columns])\n",
        "df2.show()\n"
      ],
      "metadata": {
        "colab": {
          "base_uri": "https://localhost:8080/"
        },
        "id": "hma8ZikkIbZX",
        "outputId": "2fff2e14-883d-4576-e16b-52630e2b016f"
      },
      "execution_count": 77,
      "outputs": [
        {
          "output_type": "stream",
          "name": "stdout",
          "text": [
            "+-----------+----------+------------+-----+------+\n",
            "|artist_name|track_name|release_date|genre|lyrics|\n",
            "+-----------+----------+------------+-----+------+\n",
            "|          0|         0|           0|    0|     0|\n",
            "+-----------+----------+------------+-----+------+\n",
            "\n"
          ]
        }
      ]
    },
    {
      "cell_type": "code",
      "source": [
        "train_df_merged, test_df_merged = merged_df.randomSplit([0.8, 0.2], seed=42)"
      ],
      "metadata": {
        "id": "8CUG0OKsH0Lk"
      },
      "execution_count": 79,
      "outputs": []
    },
    {
      "cell_type": "code",
      "source": [
        "lr_model_merged = pipeline_lr.fit(train_df_merged)"
      ],
      "metadata": {
        "id": "4985QlIsIkC0"
      },
      "execution_count": 80,
      "outputs": []
    },
    {
      "cell_type": "code",
      "source": [
        "predictions_merged = lr_model_merged.transform(test_df_merged)\n",
        "evaluator = MulticlassClassificationEvaluator(labelCol=\"label\", predictionCol=\"prediction\", metricName=\"accuracy\")\n",
        "accuracy = evaluator.evaluate(predictions_merged)\n",
        "print(f\"Test set accuracy: {accuracy:.4f}\")"
      ],
      "metadata": {
        "colab": {
          "base_uri": "https://localhost:8080/"
        },
        "id": "V2ynf1upIpi9",
        "outputId": "030285ae-d6de-4b82-c40c-617ac7926094"
      },
      "execution_count": 85,
      "outputs": [
        {
          "output_type": "stream",
          "name": "stdout",
          "text": [
            "Test set accuracy: 0.3234\n"
          ]
        }
      ]
    },
    {
      "cell_type": "code",
      "source": [
        "balanced_df_merged = upsample_class(merged_df, label_col=\"genre\", majority_count=majority_count)"
      ],
      "metadata": {
        "id": "V22zV2B_JBmJ"
      },
      "execution_count": 82,
      "outputs": []
    },
    {
      "cell_type": "code",
      "source": [
        "train_df_merged_bl, test_df_merged_bl = balanced_df_merged.randomSplit([0.8, 0.2], seed=42)"
      ],
      "metadata": {
        "id": "JFOBUGr0JOOH"
      },
      "execution_count": 83,
      "outputs": []
    },
    {
      "cell_type": "code",
      "source": [
        "lr_model_merged_bl = pipeline_lr.fit(train_df_merged_bl)"
      ],
      "metadata": {
        "id": "rVRqv-vDJTi6"
      },
      "execution_count": 84,
      "outputs": []
    },
    {
      "cell_type": "code",
      "source": [
        "predictions_merged_bl = lr_model_merged_bl.transform(test_df_merged_bl)\n",
        "evaluator = MulticlassClassificationEvaluator(labelCol=\"label\", predictionCol=\"prediction\", metricName=\"accuracy\")\n",
        "accuracy = evaluator.evaluate(predictions_merged_bl)\n",
        "print(f\"Test set accuracy: {accuracy:.4f}\")"
      ],
      "metadata": {
        "colab": {
          "base_uri": "https://localhost:8080/"
        },
        "id": "-QtYqXlfJXbe",
        "outputId": "17bd4bce-9820-491f-9f84-06077c4c71bf"
      },
      "execution_count": 86,
      "outputs": [
        {
          "output_type": "stream",
          "name": "stdout",
          "text": [
            "Test set accuracy: 0.6432\n"
          ]
        }
      ]
    },
    {
      "cell_type": "code",
      "source": [
        "lr_model.save(\"lr_model_merged_music_genre\")"
      ],
      "metadata": {
        "id": "lLY1wtgQJhtk"
      },
      "execution_count": 87,
      "outputs": []
    },
    {
      "cell_type": "code",
      "source": [
        "save_path = \"/content/drive/My Drive/pyspark_models/lr_model_merged_music_genre\"\n",
        "lr_model.write().overwrite().save(save_path)"
      ],
      "metadata": {
        "id": "uiHUYaRcKP9w"
      },
      "execution_count": 88,
      "outputs": []
    },
    {
      "cell_type": "code",
      "source": [
        "!zip -r /content/drive/My\\ Drive/pyspark_models/lr_model_merged_music_genre.zip /content/drive/My\\ Drive/pyspark_models/lr_model_merged_music_genre"
      ],
      "metadata": {
        "colab": {
          "base_uri": "https://localhost:8080/"
        },
        "id": "48yirp30KT14",
        "outputId": "b959f67e-7d85-4fa9-fb5a-00978f532d43"
      },
      "execution_count": 89,
      "outputs": [
        {
          "output_type": "stream",
          "name": "stdout",
          "text": [
            "  adding: content/drive/My Drive/pyspark_models/lr_model_merged_music_genre/ (stored 0%)\n",
            "  adding: content/drive/My Drive/pyspark_models/lr_model_merged_music_genre/metadata/ (stored 0%)\n",
            "  adding: content/drive/My Drive/pyspark_models/lr_model_merged_music_genre/metadata/part-00000 (deflated 25%)\n",
            "  adding: content/drive/My Drive/pyspark_models/lr_model_merged_music_genre/metadata/.part-00000.crc (stored 0%)\n",
            "  adding: content/drive/My Drive/pyspark_models/lr_model_merged_music_genre/metadata/_SUCCESS (stored 0%)\n",
            "  adding: content/drive/My Drive/pyspark_models/lr_model_merged_music_genre/metadata/._SUCCESS.crc (stored 0%)\n",
            "  adding: content/drive/My Drive/pyspark_models/lr_model_merged_music_genre/stages/ (stored 0%)\n",
            "  adding: content/drive/My Drive/pyspark_models/lr_model_merged_music_genre/stages/0_StringIndexer_717b58ae37aa/ (stored 0%)\n",
            "  adding: content/drive/My Drive/pyspark_models/lr_model_merged_music_genre/stages/0_StringIndexer_717b58ae37aa/metadata/ (stored 0%)\n",
            "  adding: content/drive/My Drive/pyspark_models/lr_model_merged_music_genre/stages/0_StringIndexer_717b58ae37aa/metadata/part-00000 (deflated 35%)\n",
            "  adding: content/drive/My Drive/pyspark_models/lr_model_merged_music_genre/stages/0_StringIndexer_717b58ae37aa/metadata/.part-00000.crc (stored 0%)\n",
            "  adding: content/drive/My Drive/pyspark_models/lr_model_merged_music_genre/stages/0_StringIndexer_717b58ae37aa/metadata/_SUCCESS (stored 0%)\n",
            "  adding: content/drive/My Drive/pyspark_models/lr_model_merged_music_genre/stages/0_StringIndexer_717b58ae37aa/metadata/._SUCCESS.crc (stored 0%)\n",
            "  adding: content/drive/My Drive/pyspark_models/lr_model_merged_music_genre/stages/0_StringIndexer_717b58ae37aa/data/ (stored 0%)\n",
            "  adding: content/drive/My Drive/pyspark_models/lr_model_merged_music_genre/stages/0_StringIndexer_717b58ae37aa/data/part-00000-ec28cb02-43f7-4cf1-92a0-6fa780335114-c000.snappy.parquet (deflated 34%)\n",
            "  adding: content/drive/My Drive/pyspark_models/lr_model_merged_music_genre/stages/0_StringIndexer_717b58ae37aa/data/.part-00000-ec28cb02-43f7-4cf1-92a0-6fa780335114-c000.snappy.parquet.crc (stored 0%)\n",
            "  adding: content/drive/My Drive/pyspark_models/lr_model_merged_music_genre/stages/0_StringIndexer_717b58ae37aa/data/_SUCCESS (stored 0%)\n",
            "  adding: content/drive/My Drive/pyspark_models/lr_model_merged_music_genre/stages/0_StringIndexer_717b58ae37aa/data/._SUCCESS.crc (stored 0%)\n",
            "  adding: content/drive/My Drive/pyspark_models/lr_model_merged_music_genre/stages/1_Tokenizer_7e7b92af23e5/ (stored 0%)\n",
            "  adding: content/drive/My Drive/pyspark_models/lr_model_merged_music_genre/stages/1_Tokenizer_7e7b92af23e5/metadata/ (stored 0%)\n",
            "  adding: content/drive/My Drive/pyspark_models/lr_model_merged_music_genre/stages/1_Tokenizer_7e7b92af23e5/metadata/part-00000 (deflated 34%)\n",
            "  adding: content/drive/My Drive/pyspark_models/lr_model_merged_music_genre/stages/1_Tokenizer_7e7b92af23e5/metadata/.part-00000.crc (stored 0%)\n",
            "  adding: content/drive/My Drive/pyspark_models/lr_model_merged_music_genre/stages/1_Tokenizer_7e7b92af23e5/metadata/_SUCCESS (stored 0%)\n",
            "  adding: content/drive/My Drive/pyspark_models/lr_model_merged_music_genre/stages/1_Tokenizer_7e7b92af23e5/metadata/._SUCCESS.crc (stored 0%)\n",
            "  adding: content/drive/My Drive/pyspark_models/lr_model_merged_music_genre/stages/2_StopWordsRemover_c697dfb35d54/ (stored 0%)\n",
            "  adding: content/drive/My Drive/pyspark_models/lr_model_merged_music_genre/stages/2_StopWordsRemover_c697dfb35d54/metadata/ (stored 0%)\n",
            "  adding: content/drive/My Drive/pyspark_models/lr_model_merged_music_genre/stages/2_StopWordsRemover_c697dfb35d54/metadata/part-00000 (deflated 58%)\n",
            "  adding: content/drive/My Drive/pyspark_models/lr_model_merged_music_genre/stages/2_StopWordsRemover_c697dfb35d54/metadata/.part-00000.crc (stored 0%)\n",
            "  adding: content/drive/My Drive/pyspark_models/lr_model_merged_music_genre/stages/2_StopWordsRemover_c697dfb35d54/metadata/_SUCCESS (stored 0%)\n",
            "  adding: content/drive/My Drive/pyspark_models/lr_model_merged_music_genre/stages/2_StopWordsRemover_c697dfb35d54/metadata/._SUCCESS.crc (stored 0%)\n",
            "  adding: content/drive/My Drive/pyspark_models/lr_model_merged_music_genre/stages/3_HashingTF_b218933c76b5/ (stored 0%)\n",
            "  adding: content/drive/My Drive/pyspark_models/lr_model_merged_music_genre/stages/3_HashingTF_b218933c76b5/metadata/ (stored 0%)\n",
            "  adding: content/drive/My Drive/pyspark_models/lr_model_merged_music_genre/stages/3_HashingTF_b218933c76b5/metadata/part-00000 (deflated 36%)\n",
            "  adding: content/drive/My Drive/pyspark_models/lr_model_merged_music_genre/stages/3_HashingTF_b218933c76b5/metadata/.part-00000.crc (stored 0%)\n",
            "  adding: content/drive/My Drive/pyspark_models/lr_model_merged_music_genre/stages/3_HashingTF_b218933c76b5/metadata/_SUCCESS (stored 0%)\n",
            "  adding: content/drive/My Drive/pyspark_models/lr_model_merged_music_genre/stages/3_HashingTF_b218933c76b5/metadata/._SUCCESS.crc (stored 0%)\n",
            "  adding: content/drive/My Drive/pyspark_models/lr_model_merged_music_genre/stages/4_IDF_d08d4179f49f/ (stored 0%)\n",
            "  adding: content/drive/My Drive/pyspark_models/lr_model_merged_music_genre/stages/4_IDF_d08d4179f49f/metadata/ (stored 0%)\n",
            "  adding: content/drive/My Drive/pyspark_models/lr_model_merged_music_genre/stages/4_IDF_d08d4179f49f/metadata/part-00000 (deflated 32%)\n",
            "  adding: content/drive/My Drive/pyspark_models/lr_model_merged_music_genre/stages/4_IDF_d08d4179f49f/metadata/.part-00000.crc (stored 0%)\n",
            "  adding: content/drive/My Drive/pyspark_models/lr_model_merged_music_genre/stages/4_IDF_d08d4179f49f/metadata/_SUCCESS (stored 0%)\n",
            "  adding: content/drive/My Drive/pyspark_models/lr_model_merged_music_genre/stages/4_IDF_d08d4179f49f/metadata/._SUCCESS.crc (stored 0%)\n",
            "  adding: content/drive/My Drive/pyspark_models/lr_model_merged_music_genre/stages/4_IDF_d08d4179f49f/data/ (stored 0%)\n",
            "  adding: content/drive/My Drive/pyspark_models/lr_model_merged_music_genre/stages/4_IDF_d08d4179f49f/data/part-00000-47a822df-c52b-4530-9667-dbca603ac8d0-c000.snappy.parquet (deflated 41%)\n",
            "  adding: content/drive/My Drive/pyspark_models/lr_model_merged_music_genre/stages/4_IDF_d08d4179f49f/data/.part-00000-47a822df-c52b-4530-9667-dbca603ac8d0-c000.snappy.parquet.crc (stored 0%)\n",
            "  adding: content/drive/My Drive/pyspark_models/lr_model_merged_music_genre/stages/4_IDF_d08d4179f49f/data/_SUCCESS (stored 0%)\n",
            "  adding: content/drive/My Drive/pyspark_models/lr_model_merged_music_genre/stages/4_IDF_d08d4179f49f/data/._SUCCESS.crc (stored 0%)\n",
            "  adding: content/drive/My Drive/pyspark_models/lr_model_merged_music_genre/stages/5_LogisticRegression_2b95ca3bc6d1/ (stored 0%)\n",
            "  adding: content/drive/My Drive/pyspark_models/lr_model_merged_music_genre/stages/5_LogisticRegression_2b95ca3bc6d1/metadata/ (stored 0%)\n",
            "  adding: content/drive/My Drive/pyspark_models/lr_model_merged_music_genre/stages/5_LogisticRegression_2b95ca3bc6d1/metadata/part-00000 (deflated 46%)\n",
            "  adding: content/drive/My Drive/pyspark_models/lr_model_merged_music_genre/stages/5_LogisticRegression_2b95ca3bc6d1/metadata/.part-00000.crc (stored 0%)\n",
            "  adding: content/drive/My Drive/pyspark_models/lr_model_merged_music_genre/stages/5_LogisticRegression_2b95ca3bc6d1/metadata/_SUCCESS (stored 0%)\n",
            "  adding: content/drive/My Drive/pyspark_models/lr_model_merged_music_genre/stages/5_LogisticRegression_2b95ca3bc6d1/metadata/._SUCCESS.crc (stored 0%)\n",
            "  adding: content/drive/My Drive/pyspark_models/lr_model_merged_music_genre/stages/5_LogisticRegression_2b95ca3bc6d1/data/ (stored 0%)\n",
            "  adding: content/drive/My Drive/pyspark_models/lr_model_merged_music_genre/stages/5_LogisticRegression_2b95ca3bc6d1/data/part-00000-516cff41-2a20-450b-8665-82847f947083-c000.snappy.parquet (deflated 5%)\n",
            "  adding: content/drive/My Drive/pyspark_models/lr_model_merged_music_genre/stages/5_LogisticRegression_2b95ca3bc6d1/data/.part-00000-516cff41-2a20-450b-8665-82847f947083-c000.snappy.parquet.crc (stored 0%)\n",
            "  adding: content/drive/My Drive/pyspark_models/lr_model_merged_music_genre/stages/5_LogisticRegression_2b95ca3bc6d1/data/_SUCCESS (stored 0%)\n",
            "  adding: content/drive/My Drive/pyspark_models/lr_model_merged_music_genre/stages/5_LogisticRegression_2b95ca3bc6d1/data/._SUCCESS.crc (stored 0%)\n"
          ]
        }
      ]
    },
    {
      "cell_type": "code",
      "source": [],
      "metadata": {
        "id": "WcIBEMcFKZ8i"
      },
      "execution_count": null,
      "outputs": []
    }
  ]
}